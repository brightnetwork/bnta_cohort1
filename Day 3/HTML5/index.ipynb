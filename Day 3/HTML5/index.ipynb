{
 "cells": [
  {
   "cell_type": "markdown",
   "metadata": {},
   "source": [
    "# HTML5 Survey (1 Day)\n",
    "\n",
    "**NOTE:** HTML is a very large topic, as can be seen by skimming through the Wikipedia article or any online cheat sheet that lists all the details on HTML. There is far more to learn about HTML than what can be covered in a single day survey. The approach taken here is to discuss some of the basic concepts along with enough code examples and demonstrations to give the student enough knowledge to be able to efficiently and effectively learn more about HTML on their own. The key to being a successful web developer is not no master every detailed fact, syntax, and technique, but rather to become efficient at searching for answers to questions that come up during actual development work. To do that you need to become good at two things:\n",
    "- First: You will need to have enough **basic terminology and conceptual understanding** to ask the right questions.\n",
    "- Second: You will need to **know where to look and how to search** for the best answers to those questions.\n",
    "\n",
    "The only way to become good at those two skills is to **roll up your sleeves** and get going on doing actual development work.\n",
    "\n",
    "HTML (Hypertext Markup Language) is the standard markup language used for defining Web page content. HTML is used together with CSS (Cascading Style Sheets) and JavaScript to create formatted dynamic web page content. The browser sends an HTTP request message to the web server, which returns an HTTP response message back to the browser, containing HTML content, along with CSS, JavaScript as well as static files, such as images, and audio, etc.\n",
    "\n",
    "- **Tim Berners-Lee** (CERN) created HTML and HTTP in 1990-1991\n",
    "- **Wikipedia: Tim Berners-Lee** https://en.wikipedia.org/wiki/Tim_Berners-Lee\n",
    "- **Wikipedia: HTML Timeline** https://en.wikipedia.org/wiki/HTML#HTML_versions_timeline\n",
    "- **HTML Standard** https://html.spec.whatwg.org\n",
    "- **WHATWG HTML Living Standard** https://html.spec.whatwg.org/multipage\n",
    "- **MDN: HTML Docs** https://developer.mozilla.org/en-US/docs/Web/HTML\n",
    "- **Wikipedia: HTML** https://en.wikipedia.org/wiki/HTML\n",
    "- **W3C Markup Validation Service** https://validator.w3.org\n",
    "- **MDN: Intro to HTML** https://developer.mozilla.org/en-US/docs/Learn/HTML/Introduction_to_HTML\n",
    "- **Wikipedia: HTTP** https://en.wikipedia.org/wiki/Hypertext_Transfer_Protocol"
   ]
  },
  {
   "cell_type": "markdown",
   "metadata": {},
   "source": [
    "## Free Code Camp - Basic HTML and HTML5\n",
    "\n",
    "- Free Code Camp -> Responsive Web Design Certification (300 hours) -> Basic HTML and HTML5: https://www.freecodecamp.org/learn"
   ]
  },
  {
   "cell_type": "markdown",
   "metadata": {},
   "source": [
    "## NOTE: GitHub Pages, Heroku, Netlify, and CodePen\n",
    "\n",
    "- You can work locally on your own development computer for all your HTML5 learning activities\n",
    "- If you want your work to be made publically available on the internet, you can deploy your site on **GitHub Pages**\n",
    "  - See: https://pages.github.com for information on free public web hosting:\n",
    "    1. Create a repository On GitHub named ```username.github.io``` (where username is your ```username``` on GitHub)\n",
    "    2. ```$ git clone https://github.com/username/username.github.io```\n",
    "    3. ```$ cd username.github.io```\n",
    "    4. ```$ echo \"Hello World\" > index.html```\n",
    "    5. ```$ git add --all```\n",
    "    6. ```$ git commit -m \"Initial commit\"```\n",
    "    7. ```$ git push -u origin main```\n",
    "    8. Fire up a browser and go to https://username.github.io.\n",
    "- Other public web hosting options exit, such as **Heroku**, **Netlify**, **Firebase**, etc.\n",
    "  - https://heroku.com\n",
    "  - https://www.netlify.com\n",
    "  - https://firebase.google.com\n",
    "  - https://render.com\n",
    "  - https://aws.amazon.com/what-is-aws\n",
    "  - https://azure.microsoft.com/en-us/services/app-service/web\n",
    "- You can also share your code publicly and interactively using **CodePen** and similar code sharing web sites"
   ]
  },
  {
   "cell_type": "markdown",
   "metadata": {},
   "source": [
    "## HTML5 Documentation\n",
    "\n",
    "* [MDN Web Docs](https://developer.mozilla.org/en-US/docs/Web)\n",
    "* [MDN HTML Docs](https://developer.mozilla.org/en-US/docs/Web/HTML)\n",
    "* [DevDocs.io](https://devdocs.io)\n",
    "* WHATWG HTML Living Standard: https://html.spec.whatwg.org/multipage\n",
    "* [W3C HTML 5.2 W3C Recommendation](https://www.w3.org/TR/html52)\n",
    "* W3C Markup Validation Service: https://validator.w3.org"
   ]
  },
  {
   "cell_type": "markdown",
   "metadata": {},
   "source": [
    "## HTTP and HTTPS (optional background info)\n",
    "\n",
    "- The first standardized version of HTTP was HTTP/1.1, which was published in early 1997.\n",
    "- The latest version of HTTP is HTTP/2, which was published in May 2015.\n",
    "\n",
    "HTTP (Hypertext Transfer Protocol) is the main protocol used to transfer files, such as text, images, sound, video, and other multimedia files, between web client (browser) and web server, on the World Wide Web. HTTP is the simple version of this protocol where communications are not encrypted for security.\n",
    "\n",
    "HTTPS is the secure version of this protocol, where all message traffic is encrypted for enhanced security. HTTPS is based on SSL/TLS, which uses cryptography, including asymmetric and symmetric encryption algorithms. It also uses digital signature and cryptographic hashing algorithms. This helps to ensure privacy and authenticity of data and identity. It also ensures that the communicating parties are authenticated to verify that they are who they claim to be. Therefore, HTTPS protects against eavesdropping and man-in-the-middle attacks.\n",
    "\n",
    "HTTP is an application level protocol that runs on top of the TCP/IP suite of transport protocols. TCP/IP represents the foundation for the entire Internet (not just the web) by providing communications connections known as socket. SSL stands for Secure Sockets Layer, which supports encrypted sockets. SSL is now also known as TLS which stands for Transport Layer Security. HTTPS is part of a larger security protocol known as PKI, which involves Certificate Authorities and digitally signed X.509 certificates. PKI stands for Public Key Infrastructure.\n",
    "\n",
    "A Web server runs an HTTP daemon process, that waits for HTTP request messages from web clients, such as web browsers. The browser creates the HTTP request message and sends it to the IP address that identifies that particular web server specified in the message URL. The HTTP server receives the request and sends back the requested file/files in a response message.\n",
    "\n",
    "- HTTP: https://developer.mozilla.org/en-US/docs/Web/HTTP\n",
    "- An overview of HTTP: https://developer.mozilla.org/en-US/docs/Web/HTTP/Overview\n",
    "- A typical HTTP session: https://developer.mozilla.org/en-US/docs/Web/HTTP/Session\n",
    "- Hypertext Transfer Protocol: https://en.wikipedia.org/wiki/Hypertext_Transfer_Protocol\n",
    "- Cross-Origin Resource Sharing (CORS):\n",
    "  - https://developer.mozilla.org/en-US/docs/Web/HTTP/CORS\n",
    "  - https://en.wikipedia.org/wiki/Cross-origin_resource_sharing\n",
    "- Public key infrastructure: https://en.wikipedia.org/wiki/Public_key_infrastructure"
   ]
  },
  {
   "cell_type": "markdown",
   "metadata": {},
   "source": [
    "## Pre-Read Assignment\n",
    "\n",
    "- Read: https://en.wikipedia.org/wiki/HTML5\n",
    "- Be prepared for in-class discussion on introductory HTML5 topics"
   ]
  },
  {
   "cell_type": "markdown",
   "metadata": {},
   "source": [
    "## Daily Schedule\n",
    "\n",
    "### 08:00AM-08:30AM (30 Min) Stand-Up and Teach-Back\n",
    "\n",
    "- Search for articles, tutorials, and documentation on HTML5, and be prepared to share and discuss your findings in class\n",
    "- Review a good HTML5 cheat sheet (https://digital.com/tools/html-cheatsheet, or similar)\n",
    "- Consider the following questions for discussion in class:\n",
    "  1. What is the basic structure of an HTML document?\n",
    "  2. What are elements and attributes?\n",
    "  3. What is a hyperlink and how do you define one?\n",
    "  4. How is JavaScript incorporated into a web page?\n",
    "  5. How is CSS incorporated into a web page?\n",
    "  6. What are block and inline elements?\n",
    "  7. What elements are placed in the ```<head>``` and ```<body>``` parts of a web page?\n",
    "  8. What is a ```<base>``` element?\n",
    "  9. What is a ```<link>``` element?\n",
    "  10. What is a ```<meta>``` element?\n",
    "  11. What is a ```<hgroup>``` element?\n",
    "  12. What is a ```<pre>``` element?\n",
    "  13. What is a ```<table>``` element?\n",
    "  14. What is a ```<input>``` element?\n",
    "  15. What is a ```<iframe>``` element?\n",
    "  16. What are ```<div>``` and ```<div>``` elements and how do they differ?\n",
    "  17. How is a ```<title>``` element displayed in the browser?\n",
    "  18. What are so called \"semantic\" elements?\n",
    "  19. What is a \"self-closing\" tag?\n",
    "  20. What is a ```<form>``` element and how does it work?\n",
    "\n",
    "### 08:30AM-10:00AM (90 Min) Lectures and Demos\n",
    "\n",
    "**HTML Element Categories**\n",
    "- **Structural**: ```<html>```, ```<base>```, ```<head>```, ```<link>```, ```<meta>```, ```<style>```, ```<title>```, ```<body>```\n",
    "- **Semantic**: ```<header>```, ```<footer>```, ```<article>```, ```<section>```, ```<nav>```, ```<h1>```...```<h6>```, etc.\n",
    "- **Content**: ```<lists>```, ```<a>```, ```<button>```\n",
    "- **Forms**: ```<input>```, ```<form>```, ```<submit>```\n",
    "- **Media**: ```<audio>```, ```<video>```, ```<img>```\n",
    "\n",
    "**Structural Category Elements**\n",
    "- See: https://developer.mozilla.org/en-US/docs/Web/HTML/Element#Main_root\n",
    "- ```<html>``` Represents root (top-level element) of the document\n",
    "- ```<base>``` Base URL to use relative URLs in the document\n",
    "- ```<head>``` Machine-readable metadata about the document (title, scripts, style sheets)\n",
    "- ```<link>``` External resource link (CSS, favicon, etc.)\n",
    "- ```<meta>``` Metadata elements, such as ```base```, ```link```, ```script```, ```style```, and ```title```\n",
    "- ```<style>``` Style rules for the document\n",
    "- ```<title>``` Document title shown in browser title bar or page tab\n",
    "- ```<body>``` Contains content of document\n",
    "\n",
    "**Semantic Category Elements**\n",
    "- See: https://developer.mozilla.org/en-US/docs/Web/HTML/Element#Content_sectioning\n",
    "- ```<header>```\tContains navigation links, heading elements, banner image, a search box, author name\n",
    "- ```<footer>``` Footer for nearest sectioning content or sectioning root element\n",
    "- ```<article>``` Self-contained article\n",
    "- ```<section>``` Standalone section that does not have a more specific semantic element to represent it\n",
    "- ```<nav>``` Provides navigation links\n",
    "- ```<address>``` Contains contact information for person or organization\n",
    "- ```<aside>``` Content that is only indirectly related to main content\n",
    "- ```<hgroup>``` Heading that groups a set of ```<h1>```–```<h6>``` elements\n",
    "- ```<main>``` Dominant content of body that is directly related to or expands on central topic\n",
    "- ```<h1>```, ```<h2>```, ```<h3>```, ```<h4>```, ```<h5>```, ```<h6>``` Headings Levels\n",
    "\n",
    "**Content, Form, and Media Category Elements**\n",
    "- **Text Content**: See: https://developer.mozilla.org/en-US/docs/Web/HTML/Element#Text_content\n",
    "- **Inline text semantics**: See: https://developer.mozilla.org/en-US/docs/Web/HTML/Element#Inline_text_semantics\n",
    "- **Image and multimedia**: See: https://developer.mozilla.org/en-US/docs/Web/HTML/Element#Inline_text_semantics\n",
    "- **Embedded content**: https://developer.mozilla.org/en-US/docs/Web/HTML/Element#Embedded_content\n",
    "- **Scripting**: https://developer.mozilla.org/en-US/docs/Web/HTML/Element#Scripting\n",
    "- **Demarcating edits**: https://developer.mozilla.org/en-US/docs/Web/HTML/Element#Demarcating_edits\n",
    "- **Table content**: https://developer.mozilla.org/en-US/docs/Web/HTML/Element#Table_content\n",
    "- **Forms**: https://developer.mozilla.org/en-US/docs/Web/HTML/Element#Forms\n",
    "- **Interactive elements**: https://developer.mozilla.org/en-US/docs/Web/HTML/Element#Interactive_elements\n",
    "- **Web Components**: https://developer.mozilla.org/en-US/docs/Web/HTML/Element#Web_Components\n",
    "\n",
    "**Demo Activities**\n",
    "\n",
    "1. Review [Foundation Program 2 Hour HTML5](../FoundationProgram/2HrHTML5.ipynb)\n",
    "2. Explore https://digital.com/tools/html-cheatsheet\n",
    "3. Explore https://html.com\n",
    "4. Explore https://webcode.tools/html-generator/image\n",
    "5. Go through the **Lecture and Demos** section that appears later in this document\n",
    "\n",
    "### 10:00AM-10:30AM (30 Min) Q&A\n",
    "\n",
    "- Students\n",
    "  - Students ask and answer their own questions as independently as possible\n",
    "  - Students actively research answers to other student's questions in real time if possible\n",
    "  - Students actively participate in dialog as much as possible\n",
    "- Instructor\n",
    "  - Instructor promotes exploration of concepts with thought provoking questions\n",
    "  - Instructor provides active guidance when necessary, but mostly acts as a facilitator\n",
    "  - Instructor actively corrects misunderstandings as required\n",
    "\n",
    "### 10:30AM-10:45AM (15 Min) Break\n",
    "\n",
    "- Instructor and students must return on time to avoid falling behind in schedule.\n",
    "\n",
    "### 10:45AM-12:00PM (75 Min) Lab\n",
    "\n",
    "**NOTE**: As usual, there will be topics that we did not discuss in lecture that you will most likely want to make use of in this lab. Be prepared to google search as necessary, or ask questions in class during the lab to resolve any issues. At this point in the class, it is not required that you use any CSS, however, you may use it if you like. You may also find that you need a bit of JavaScript here and there, such as in a form (handling the submit button) and canvas (calling drawing functions). This JavaScript code will be very simple, and you can easily find and copy/paste code you find on the web without the need of deep understanding. As is the case in real work world, the key is to see how resourceful you can become in resolving issues as they come up.\n",
    "\n",
    "1. **Explore** https://developer.mozilla.org/en-US/docs/Web/HTML\n",
    "2. **Try out** some of the code examples at: https://www.w3docs.com/learn-html/semantic-elements-in-html5.html\n",
    "3. **Design and build** your own HTML pages that use several of following HTML elements:\n",
    "  - **Heading** elements (```h1``` to ```h6```) that display text in various sizes\n",
    "  - **Anchor** elements that navigates to another local HTML file or to an external web page\n",
    "  - **Image** elements that display a local or an external image file\n",
    "  - **Table** element that contains text under multiple columns with headers and multiple rows\n",
    "  - **Form** that prompts user for first and last name and writes full name to console output window or to alert box.\n",
    "  - **SVG** element that draws several graphical primitives\n",
    "  - **Canvas** element that draws several graphical primitives\n",
    "  - **Video** element that plays a video file\n",
    "  - **Audio** element that plays an audio\n",
    "  - **Try your own** examples drawn from your own imagination or example you find on the web\n",
    "4. Share your completed lab code (on https://codepen.io, or similar)\n",
    "5. Be prepared to present and discuss your code in class\n",
    "\n",
    "\n",
    "### 12:00PM-01:00PM (60 Min) Lunch\n",
    "\n",
    "- Instructor and students must return on time to avoid falling behind in schedule.\n",
    "\n",
    "### 01:00PM-02:45PM (105 Min) Lab\n",
    "\n",
    "1. Go through the web development tutorials on MDN: https://developer.mozilla.org/en-US/docs/Learn\n",
    "2. Search for intersting web page examples that you would like to experiment with\n",
    "2. Continue building your HTML portfolio (on https://codepen.io, or similar)\n",
    "\n",
    "### 02:45PM-03:00PM (15 Min) Break\n",
    "\n",
    "- Instructor and students must return on time to avoid falling behind in schedule.\n",
    "\n",
    "### 03:00PM-03:30PM (30 Min) Lab Discussion and Teach-Back\n",
    "\n",
    "- Ask questions in class\n",
    "- Present your code in class\n",
    "\n",
    "### 03:30PM-04:00PM (30 Min) Homework Assignment\n",
    "\n",
    "1. Explore https://www.freecodecamp.org/news/tag/html\n",
    "2. Explore examples at https://codepen.io/trending and be prepared to discuss your findings in class\n",
    "3. Continue working on the web development tutorials on MDN: https://developer.mozilla.org/en-US/docs/Learn\n",
    "4. Create your work online (on https://codepen.io, or similar)\n",
    "5. Be prepared to present your work in class and explain how it works"
   ]
  },
  {
   "cell_type": "markdown",
   "metadata": {},
   "source": [
    "## HTML5 Topics\n",
    "\n",
    "- HTTP and related technologies represent a vast array of learning opportunities.\n",
    "- Try googling any of the following terms to get an idea of how much there is to learn:\n",
    "  - HTTP and HTTPS\n",
    "  - HTML Syntax and Document Structure\n",
    "  - Semantic Elements\n",
    "  - Elements and Attributes\n",
    "  - Inline vs Block Elements\n",
    "  - Divs and Spans\n",
    "  - Text\n",
    "  - Links\n",
    "  - Images\n",
    "  - Rich Media\n",
    "  - Tables\n",
    "  - Forms\n",
    "  - Color\n",
    "  - Boxes\n",
    "  - Lists\n",
    "  - SVG\n",
    "  - Canvas\n",
    "  - Geolocation\n",
    "  - Grid Layout\n",
    "  - Fluid Layout\n",
    "  - Animations\n",
    "  - Transitions\n",
    "  - Events\n",
    "  - DOM\n",
    "  - JavaScript Tag\n",
    "  - Viewport\n",
    "  - Scripts\n",
    "  - Video\n",
    "  - Audio\n",
    "  - Drag and Drop\n",
    "  - WebGL\n",
    "  - Local and Session Storage\n",
    "  - IndexedDB\n",
    "  - Touch Events\n",
    "  - Media Devices\n",
    "  - Device Orientation\n",
    "  - Viewport Meta Tag\n",
    "  - Web Workers\n",
    "  - Web Sockets\n",
    "  - WebRTC\n",
    "  - Web Assembly\n",
    "  - Babel and Webpack\n",
    "  - Responsive Design\n",
    "  - Accessibility"
   ]
  },
  {
   "cell_type": "markdown",
   "metadata": {},
   "source": [
    "## Lecture and Demos (90 Minute - 08:30AM-10:00AM)\n",
    "\n",
    "**NOTE**: You can copy and paste these code examples into your own source code editor and save them in a file that ends in ```.html```. In many cases, you can view the result in your browser just by double clicking on the ```.html``` file directly in your file system. In some code examples, it may only work if you host the page on an actual web server. It is easiest for you to use a local development web server for this, rather deploying it to a remote production web server over the internet. A local web server can be run using Node.js. You can google that to see the details of how you can do that. If you use Visual Studio Code, you can simply install the \"Go Live\" extension and run it directly from within the Visual Studio Code editor, so that you can then view it in your web browser at the URL: http://127.0.0.1."
   ]
  },
  {
   "cell_type": "markdown",
   "metadata": {},
   "source": [
    "## Simple HTML Example (just to warm up)\n",
    "\n",
    "* ```<!DOCTYPE html>``` declaration specifies that this web page is an HTML5 document\n",
    "* ```<!-- comment... -->``` element specifies a comment (ignored by browser)\n",
    "* ```<html>``` element is the root element of this document\n",
    "* ```<head>``` element contains meta information about this document\n",
    "* ```<title>``` element specifies a title for this document\n",
    "* ```<body>``` element contains the visible page content in this document\n",
    "* ```<h1>``` element defines a large heading\n",
    "* ```<p>``` element defines a paragraph\n",
    "\n",
    "Put the following HTML in a fileand view it in your browser:\n",
    "\n",
    "```html\n",
    "<!DOCTYPE html>\n",
    "<!-- A Few Simple HTML Elements (just to get warmed up) -->\n",
    "<html>\n",
    "<head>\n",
    "  <title>A Few Simple HTML Elements</title>\n",
    "</head>\n",
    "<body>\n",
    "  <h1 style=\"color:blue;\">My First Heading</h1>\n",
    "  <p style=\"color:red;\">My first paragraph.</p>\n",
    "</body>\n",
    "</html>\n",
    "```\n",
    "<img src=\"img/few_simple_html_elements.png\" width=\"500\" />"
   ]
  },
  {
   "cell_type": "markdown",
   "metadata": {},
   "source": [
    "## HTML Page Structure\n",
    "\n",
    "- The ```<!DOCTYPE html>``` declaration syntax at the top of a page specifies that it is HTML5 standard compliant\n",
    "- Element syntax - See: https://en.wikipedia.org/wiki/HTML#Element_examples\n",
    "  - Tags: begin tags, end tags, and self-closing tags\n",
    "  - Attributes: ```id```, ```align```, ```valign```, ```bgcolor```, ```height```, ```width```, ```class```, ```style```, ```title```, etc.\n",
    "  - Nested Content\n",
    "  - Nested Elements\n",
    "- The ```<!-- comment... -->``` element is for commenting code with explanatory info (ignored by browser)\n",
    "- The ```<html>``` element is the single top-level document container element\n",
    "- The ```<head>``` element contains non-visible meta-information about the document\n",
    "- The ```<meta>``` element provides structured metadata about a Web page\n",
    "  - Character encoding: ```<meta charset=\"UTF-8\">```\n",
    "  - Description: ```<meta name=\"description\" content=\"This is a document about xyz.\">```\n",
    "  - Keywords: ```<meta name=\"keywords\" content=\"HTML, CSS, JavaScript\">```\n",
    "  - Author: ```<meta name=\"author\" content=\"Frank Zappa\">```\n",
    "  - Viewport: ```<meta name=\"viewport\" content=\"width=device-width, initial-scale=1.0\">```\n",
    "- The ```<title>``` element: specifies the title for this document (displayed on browser tab)\n",
    "- The ```<h1>```-```h6``` Heading elements: small to large headings\n",
    "- The ```<p>``` element: defines a paragraph\n",
    "- The ```<body>``` element: contains visible page content in the document\n",
    "- The ```<div>```and ```<span>``` elements\n",
    "- Structural elements\n",
    "  - ```<div>``` generic block container\n",
    "  - ```<span>``` generic inline container\n",
    "- Semantic elements\n",
    "  - ```<header>``` header section\n",
    "  - ```<nav>``` navigation bar section\n",
    "  - ```<main>``` main content section\n",
    "  - ```<article>``` article subsection\n",
    "  - ```<section>``` nested subsection\n",
    "  - ```<aside>``` sidebar section\n",
    "  - ```<footer>``` footer section\n",
    "\n",
    "See: https://developer.mozilla.org/en-US/docs/Learn/HTML/Introduction_to_HTML/Document_and_website_structure\n"
   ]
  },
  {
   "cell_type": "markdown",
   "metadata": {},
   "source": [
    "##  Semantic Elements\n",
    "\n",
    "See: https://en.wikipedia.org/wiki/Semantic_HTML\n",
    "\n",
    "- The ```<section>``` Element: https://developer.mozilla.org/en-US/docs/Web/HTML/Element/section\n",
    "- The ```<article>``` Element: https://developer.mozilla.org/en-US/docs/Web/HTML/Element/article\n",
    "- The ```<aside>``` Element: https://developer.mozilla.org/en-US/docs/Web/HTML/Element/aside\n",
    "- The ```<header>``` Element\n",
    "- The ```<footer>``` Element: https://developer.mozilla.org/en-US/docs/Web/HTML/Element/footer\n",
    "- The ```<nav>``` Element: https://developer.mozilla.org/en-US/docs/Web/HTML/Element/nav\n",
    "- The ```<address>``` Element: https://developer.mozilla.org/en-US/docs/Web/HTML/Element/address"
   ]
  },
  {
   "cell_type": "markdown",
   "metadata": {},
   "source": [
    "## Simple HTML Page Demo\n",
    "\n",
    "1. Create the following file named ```firstHTML.html```\n",
    "    - You can create it in a plain text editor (e.g. ```notepad.exe``` on ```Windows```)\n",
    "    - Or you can create it in VSCode\n",
    "2. Then open it in your web browser\n",
    "    - You can open it via the file system (e.g. double-clicking it in ```File Explorer``` on ```Windows```)\n",
    "    - You can open it via a local dev http server (e.g. ```VSCode``` with the ```Live Server``` Extension installed)\n",
    "    - VSCode ```Ctrl+Shift+P``` is kb-shortcut (Show All Commands) -> then type ```Live Server``` and select from  list\n",
    "\n",
    "```html\n",
    "<!DOCTYPE html>\n",
    "<!-- A Simple HTML Page -->\n",
    "<html>\n",
    "  <title>My HTML Page</title>\n",
    "  <body>\n",
    "    <h1>This is an h1 tag</h1>\n",
    "    <p>This is a p tag.</p>\n",
    "  </body>\n",
    "</html>\n",
    "```\n",
    "\n",
    "See: https://codepen.io/peterteach/pen/XWjJNMX"
   ]
  },
  {
   "cell_type": "markdown",
   "metadata": {},
   "source": [
    "## The ```<head>``` Element\n",
    "\n",
    "- Contains page metadata\n",
    "- Metadata is not displayed in the browser\n",
    "- Common examples of elements that are placed in the ```head``` element are:\n",
    "  - ```<title>``` Document title: https://developer.mozilla.org/en-US/docs/Web/HTML/Element/title\n",
    "  - ```<style>``` CSS rules: https://developer.mozilla.org/en-US/docs/web/html/element/style\n",
    "  - ```<meta>``` Document metadata: https://developer.mozilla.org/en-US/docs/Web/HTML/Element/meta\n",
    "  - ```<link>``` External resource: https://developer.mozilla.org/en-US/docs/Web/HTML/Element/link\n",
    "  - ```<script>``` Embeded code: https://developer.mozilla.org/en-US/docs/Web/HTML/Element/script\n",
    "  - ```<base>``` Relative URL base: https://developer.mozilla.org/en-US/docs/Web/HTML/Element/base\n",
    "  - See: https://developer.mozilla.org/en-US/docs/Learn/HTML/Introduction_to_HTML/The_head_metadata_in_HTML\n",
    "\n",
    "```html\n",
    "<head>\n",
    "  <title>My Cool Web Page</title>\n",
    "  <meta charset=\"utf-8\">\n",
    "  <script src=\"myjavascript.js\"></script>\n",
    "  <link href=\"/styles/mystyles.css\" rel=\"stylesheet\">\n",
    "  <style type=\"text/css\">\n",
    "    p {\n",
    "      color: #26b72b;\n",
    "    }\n",
    "  </style>\n",
    "</head>\n",
    "```"
   ]
  },
  {
   "cell_type": "markdown",
   "metadata": {},
   "source": [
    "## Comments\n",
    "\n",
    "- Ignored by the browser\n",
    "- Helpful information written by developers, to be read by developers\n",
    "\n",
    "```<!-- This is a comment (not rendered by browser) -->```"
   ]
  },
  {
   "cell_type": "code",
   "execution_count": 2,
   "metadata": {},
   "outputs": [
    {
     "data": {
      "text/html": [
       "\n",
       "<!-- This is a comment (not rendered by browser) -->\n",
       "<p>This is not a comment (rendered by browser)</p>\n"
      ],
      "text/plain": [
       "<IPython.core.display.HTML object>"
      ]
     },
     "metadata": {},
     "output_type": "display_data"
    }
   ],
   "source": [
    "%%html\n",
    "\n",
    "<!-- This is a comment (not rendered by browser) -->\n",
    "<p>This is not a comment (rendered by browser)</p>"
   ]
  },
  {
   "cell_type": "markdown",
   "metadata": {},
   "source": [
    "## The  ```<h1>``` ... ```<h6>``` Elements\n",
    "\n",
    "- The ```<h1>```–```<h6>``` elements represent six levels of section headings\n",
    "- The ```<h1>``` is the highest section level (largest font)\n",
    "- The ```<h6>``` is the lowest section level (smallest font)\n",
    "    \n",
    "See: https://developer.mozilla.org/en-US/docs/Web/HTML/Element/Heading_Elements"
   ]
  },
  {
   "cell_type": "code",
   "execution_count": 3,
   "metadata": {},
   "outputs": [
    {
     "data": {
      "text/html": [
       "\n",
       "<h1>h1 heading</h1>\n",
       "<h2>h2 heading</h2>\n",
       "<h3>h3 heading</h3>\n",
       "<h4>h4 heading</h4>\n",
       "<h5>h5 heading</h5>\n",
       "<h6>h6 heading</h6>\n",
       "<h1 style=\"font-size:40px;\">h1 heading 40px font-size</h1>\n"
      ],
      "text/plain": [
       "<IPython.core.display.HTML object>"
      ]
     },
     "metadata": {},
     "output_type": "display_data"
    }
   ],
   "source": [
    "%%html\n",
    "\n",
    "<h1>h1 heading</h1>\n",
    "<h2>h2 heading</h2>\n",
    "<h3>h3 heading</h3>\n",
    "<h4>h4 heading</h4>\n",
    "<h5>h5 heading</h5>\n",
    "<h6>h6 heading</h6>\n",
    "<h1 style=\"font-size:40px;\">h1 heading 40px font-size</h1>"
   ]
  },
  {
   "cell_type": "markdown",
   "metadata": {},
   "source": [
    "## The ```style``` Attribute (in-line style)\n"
   ]
  },
  {
   "cell_type": "code",
   "execution_count": 4,
   "metadata": {},
   "outputs": [
    {
     "data": {
      "text/html": [
       "\n",
       "<p>This is an un-styled paragraph.</p>\n",
       "<p style=\"color:red\">This is a styled paragraph.</p>\n"
      ],
      "text/plain": [
       "<IPython.core.display.HTML object>"
      ]
     },
     "metadata": {},
     "output_type": "display_data"
    }
   ],
   "source": [
    "%%html\n",
    "\n",
    "<p>This is an un-styled paragraph.</p>\n",
    "<p style=\"color:red\">This is a styled paragraph.</p>"
   ]
  },
  {
   "cell_type": "code",
   "execution_count": 5,
   "metadata": {},
   "outputs": [
    {
     "data": {
      "text/html": [
       "\n",
       "<div style=\"background-color:yellow;\">\n",
       "<h1 style=\"color:blue;\">This is an h1 element</h1>\n",
       "<p style=\"text-align:center;font-family:courier;\">This is a p element.</p>\n",
       "</div>\n"
      ],
      "text/plain": [
       "<IPython.core.display.HTML object>"
      ]
     },
     "metadata": {},
     "output_type": "display_data"
    }
   ],
   "source": [
    "%%html\n",
    "\n",
    "<div style=\"background-color:yellow;\">\n",
    "<h1 style=\"color:blue;\">This is an h1 element</h1>\n",
    "<p style=\"text-align:center;font-family:courier;\">This is a p element.</p>\n",
    "</div>"
   ]
  },
  {
   "cell_type": "code",
   "execution_count": 6,
   "metadata": {},
   "outputs": [
    {
     "data": {
      "text/html": [
       "\n",
       "<p>This is a deleted element: <del>deleted</del>.</p>\n"
      ],
      "text/plain": [
       "<IPython.core.display.HTML object>"
      ]
     },
     "metadata": {},
     "output_type": "display_data"
    }
   ],
   "source": [
    "%%html\n",
    "\n",
    "<p>This is a deleted element: <del>deleted</del>.</p>"
   ]
  },
  {
   "cell_type": "markdown",
   "metadata": {},
   "source": [
    "## The ```title``` Attribute (tooltip)"
   ]
  },
  {
   "cell_type": "code",
   "execution_count": 7,
   "metadata": {},
   "outputs": [
    {
     "data": {
      "text/html": [
       "\n",
       "<p>Mouse over the following paragraph to see the tooltip</p>\n",
       "<p title=\"I'm a tooltip\">This is a styled paragraph with a tooltip.</p>\n"
      ],
      "text/plain": [
       "<IPython.core.display.HTML object>"
      ]
     },
     "metadata": {},
     "output_type": "display_data"
    }
   ],
   "source": [
    "%%html\n",
    "\n",
    "<p>Mouse over the following paragraph to see the tooltip</p>\n",
    "<p title=\"I'm a tooltip\">This is a styled paragraph with a tooltip.</p>"
   ]
  },
  {
   "cell_type": "code",
   "execution_count": 8,
   "metadata": {},
   "outputs": [
    {
     "data": {
      "text/html": [
       "\n",
       "<h1>Mouse over the following paragraphs to see the tooltips</h1>\n",
       "<p title=\"I'm a tooltip\">This is an un-styled paragraph with a tooltip.</p>\n",
       "<p style=\"color:red\" title=\"I'm a tooltip\">This is a styled paragraph with a tooltip.</p>\n"
      ],
      "text/plain": [
       "<IPython.core.display.HTML object>"
      ]
     },
     "metadata": {},
     "output_type": "display_data"
    }
   ],
   "source": [
    "%%html\n",
    "\n",
    "<h1>Mouse over the following paragraphs to see the tooltips</h1>\n",
    "<p title=\"I'm a tooltip\">This is an un-styled paragraph with a tooltip.</p>\n",
    "<p style=\"color:red\" title=\"I'm a tooltip\">This is a styled paragraph with a tooltip.</p>"
   ]
  },
  {
   "cell_type": "markdown",
   "metadata": {},
   "source": [
    "## A few more Common Element Attributes\n",
    "\n",
    "- ```alt``` provides alternate text for image\n",
    "- ```disabled``` disables input element\n",
    "- ```href``` provides URL for a link\n",
    "- ```id``` provides a unique id for an element\n",
    "- ```src``` provides URL for an image\n",
    "- ```style``` provides inline CSS style rules\n",
    "- ```title``` provides tool tip text"
   ]
  },
  {
   "cell_type": "markdown",
   "metadata": {},
   "source": [
    "## The ```<hr>``` and ```<br>``` Elements (horizontal rules and line breaks)"
   ]
  },
  {
   "cell_type": "code",
   "execution_count": 9,
   "metadata": {},
   "outputs": [
    {
     "data": {
      "text/html": [
       "\n",
       "<span>one</span><span>two</span>\n",
       "<hr/>\n",
       "<span>one</span><br/><span>two</span>\n"
      ],
      "text/plain": [
       "<IPython.core.display.HTML object>"
      ]
     },
     "metadata": {},
     "output_type": "display_data"
    }
   ],
   "source": [
    "%%html\n",
    "\n",
    "<span>one</span><span>two</span>\n",
    "<hr/>\n",
    "<span>one</span><br/><span>two</span>"
   ]
  },
  {
   "cell_type": "markdown",
   "metadata": {},
   "source": [
    "## The ```<div>``` and ```<span>``` Elements\n",
    "\n",
    "- ```<div>``` is an block container: https://developer.mozilla.org/en-US/docs/Web/HTML/Element/div\n",
    "- ```<span>``` is an inline container: https://developer.mozilla.org/en-US/docs/Web/HTML/Element/span"
   ]
  },
  {
   "cell_type": "code",
   "execution_count": 10,
   "metadata": {},
   "outputs": [
    {
     "data": {
      "text/html": [
       "\n",
       "<div style=\"background-color:yellow;}\">\n",
       "    <p style=\"color:red;\">This is a paragraph in a div. It also contains a <span style=\"color:green;\">span</span></p>\n",
       "</div>\n"
      ],
      "text/plain": [
       "<IPython.core.display.HTML object>"
      ]
     },
     "metadata": {},
     "output_type": "display_data"
    }
   ],
   "source": [
    "%%html\n",
    "\n",
    "<div style=\"background-color:yellow;}\">\n",
    "    <p style=\"color:red;\">This is a paragraph in a div. It also contains a <span style=\"color:green;\">span</span></p>\n",
    "</div>"
   ]
  },
  {
   "cell_type": "markdown",
   "metadata": {},
   "source": [
    "## Custom data attributes start with ```data-```\n",
    "\n",
    "- ```<div class = \"course-name\" data-course=\"Quantum Mechanics\" data-level=\"200\">```\n",
    "- Using data attributes https://developer.mozilla.org/en-US/docs/Learn/HTML/Howto/Use_data_attributes"
   ]
  },
  {
   "cell_type": "markdown",
   "metadata": {},
   "source": [
    "## The ```<a>``` Element (anchor)\n",
    "\n",
    "- Attributes:\n",
    "  - ```download``` prompts the user to save the linked URL instead of navigating to it\n",
    "  - ```href``` specifies the URL that the hyperlink points to (any URL scheme supported by browsers)\n",
    "  - ```target``` specifies where to display the URL result\n",
    "    - ```_self``` means the current browsing context (default)\n",
    "    - ```_blank``` means a new tab\n",
    "    - ```_parent``` means the parent browsing context (if no parent then behaves as ```_self```)\n",
    "    - ```_top``` means topmost browsing context (if no ancestors then behaves as ```_self```)\n",
    "\n",
    "\n",
    "- Anchor element docs: https://developer.mozilla.org/en-US/docs/Web/HTML/Element/a"
   ]
  },
  {
   "cell_type": "code",
   "execution_count": 11,
   "metadata": {},
   "outputs": [
    {
     "data": {
      "text/html": [
       "\n",
       "Click here: <a href=\"https://dev.w3.org/html5/html-author/\" target=\"_blank\">W3C HTML5 Reference</a>\n"
      ],
      "text/plain": [
       "<IPython.core.display.HTML object>"
      ]
     },
     "metadata": {},
     "output_type": "display_data"
    }
   ],
   "source": [
    "%%html\n",
    "\n",
    "Click here: <a href=\"https://dev.w3.org/html5/html-author/\" target=\"_blank\">W3C HTML5 Reference</a>"
   ]
  },
  {
   "cell_type": "markdown",
   "metadata": {},
   "source": [
    "## The ```<img>``` Element (image)\n",
    "\n",
    "- Image formats: gif, jpeg, png, svg, etc.\n",
    "- Image attributes:\n",
    "  - ```src``` contains the path to the image (not optional)\n",
    "  - ```alt``` provides text description of image (accessibility and screen readers)\n",
    "  - ```title``` provides tooltip\n",
    "  - ```width```\n",
    "  - ```height```\n",
    "  - etc.\n",
    "\n",
    "- Image element docs: https://developer.mozilla.org/en-US/docs/Web/HTML/Element/img"
   ]
  },
  {
   "cell_type": "code",
   "execution_count": 12,
   "metadata": {},
   "outputs": [
    {
     "data": {
      "text/html": [
       "\n",
       "<img src=\"https://upload.wikimedia.org/wikipedia/commons/thumb/6/68/Orange_tabby_cat_sitting_on_fallen_leaves-Hisashi-01A.jpg/180px-Orange_tabby_cat_sitting_on_fallen_leaves-Hisashi-01A.jpg\" \n",
       "alt=\"Orange tabby cat\" title=\"pretty kitty\">\n"
      ],
      "text/plain": [
       "<IPython.core.display.HTML object>"
      ]
     },
     "metadata": {},
     "output_type": "display_data"
    }
   ],
   "source": [
    "%%html\n",
    "\n",
    "<img src=\"https://upload.wikimedia.org/wikipedia/commons/thumb/6/68/Orange_tabby_cat_sitting_on_fallen_leaves-Hisashi-01A.jpg/180px-Orange_tabby_cat_sitting_on_fallen_leaves-Hisashi-01A.jpg\" \n",
    "alt=\"Orange tabby cat\" title=\"pretty kitty\">"
   ]
  },
  {
   "cell_type": "markdown",
   "metadata": {},
   "source": [
    "## The ```<video>``` and ```<audio>``` Elements\n",
    "\n",
    "- Video formats: mp4, webm, ogg, etc.\n",
    "- Video attributes:\n",
    "  - ```src``` contains the path to the video (not optional)\n",
    "  - ```controls``` include the built-in browser video control user interface\n",
    "  - ```alt``` provides text description of video (accessibility and screen readers)\n",
    "  - ```title``` provides tooltip\n",
    "  - ```width```\n",
    "  - ```height```\n",
    "  - etc.\n",
    "- The ```audio``` element is similar\n",
    "- Image element docs: https://developer.mozilla.org/en-US/docs/Learn/HTML/Multimedia_and_embedding/Video_and_audio_content"
   ]
  },
  {
   "cell_type": "code",
   "execution_count": 13,
   "metadata": {},
   "outputs": [
    {
     "data": {
      "text/html": [
       "\n",
       "<video width=\"800\" height=\"450\" controls title=\"how to tie a knot\">\n",
       "  <source src=\"https://upload.wikimedia.org/wikipedia/commons/d/d1/Achterknoten_%28Schlaufe%29.webm\" type=\"video/webm\">\n",
       "</video>\n"
      ],
      "text/plain": [
       "<IPython.core.display.HTML object>"
      ]
     },
     "metadata": {},
     "output_type": "display_data"
    }
   ],
   "source": [
    "%%html\n",
    "\n",
    "<video width=\"800\" height=\"450\" controls title=\"how to tie a knot\">\n",
    "  <source src=\"https://upload.wikimedia.org/wikipedia/commons/d/d1/Achterknoten_%28Schlaufe%29.webm\" type=\"video/webm\">\n",
    "</video>"
   ]
  },
  {
   "cell_type": "markdown",
   "metadata": {},
   "source": [
    "## The ```<ul>``` and ```<li>``` Elements (unordered lists)\n",
    "\n",
    "See: https://developer.mozilla.org/en-US/docs/Web/HTML/Element/ul"
   ]
  },
  {
   "cell_type": "code",
   "execution_count": 14,
   "metadata": {},
   "outputs": [
    {
     "data": {
      "text/html": [
       "\n",
       "<ul>\n",
       "  <li>Red</li>\n",
       "  <li>Green</li>\n",
       "  <li>Blue</li>\n",
       "</ul>\n",
       "<ol>\n",
       "    <li>One</li>\n",
       "    <li>Two</li>\n",
       "    <li>Three</li>\n",
       "</ol>\n"
      ],
      "text/plain": [
       "<IPython.core.display.HTML object>"
      ]
     },
     "metadata": {},
     "output_type": "display_data"
    }
   ],
   "source": [
    "%%html\n",
    "\n",
    "<ul>\n",
    "  <li>Red</li>\n",
    "  <li>Green</li>\n",
    "  <li>Blue</li>\n",
    "</ul>\n",
    "<ol>\n",
    "    <li>One</li>\n",
    "    <li>Two</li>\n",
    "    <li>Three</li>\n",
    "</ol>"
   ]
  },
  {
   "cell_type": "markdown",
   "metadata": {},
   "source": [
    "## The ```<ol>``` and ```<li>``` Elements (ordered lists)\n",
    "\n",
    "See: https://developer.mozilla.org/en-US/docs/Web/HTML/Element/ol"
   ]
  },
  {
   "cell_type": "code",
   "execution_count": 15,
   "metadata": {},
   "outputs": [
    {
     "data": {
      "text/html": [
       "\n",
       "<ol>\n",
       "    <li>Item</li>\n",
       "    <li>Another Item</li>\n",
       "    <li>Yet Another Item</li>\n",
       "</ol>\n"
      ],
      "text/plain": [
       "<IPython.core.display.HTML object>"
      ]
     },
     "metadata": {},
     "output_type": "display_data"
    }
   ],
   "source": [
    "%%html\n",
    "\n",
    "<ol>\n",
    "    <li>Item</li>\n",
    "    <li>Another Item</li>\n",
    "    <li>Yet Another Item</li>\n",
    "</ol>"
   ]
  },
  {
   "cell_type": "markdown",
   "metadata": {},
   "source": [
    "## The ```<dl>``` and ```<dt>``` Elements (description lists)\n",
    "\n",
    "See: https://developer.mozilla.org/en-US/docs/Web/HTML/Element/dl"
   ]
  },
  {
   "cell_type": "code",
   "execution_count": 16,
   "metadata": {},
   "outputs": [
    {
     "data": {
      "text/html": [
       "\n",
       "<dl>\n",
       "    <dt>name 1</dt>\n",
       "    <dd>value for 1</dd>\n",
       "    <dt>name 2</dt>\n",
       "    <dd>value for 2</dd>\n",
       "</dl>\n"
      ],
      "text/plain": [
       "<IPython.core.display.HTML object>"
      ]
     },
     "metadata": {},
     "output_type": "display_data"
    }
   ],
   "source": [
    "%%html\n",
    "\n",
    "<dl>\n",
    "    <dt>name 1</dt>\n",
    "    <dd>value for 1</dd>\n",
    "    <dt>name 2</dt>\n",
    "    <dd>value for 2</dd>\n",
    "</dl>"
   ]
  },
  {
   "cell_type": "markdown",
   "metadata": {},
   "source": [
    "## The ```<button>``` Element\n",
    "\n",
    "See: https://developer.mozilla.org/en-US/docs/Web/HTML/Element/button"
   ]
  },
  {
   "cell_type": "code",
   "execution_count": 17,
   "metadata": {},
   "outputs": [
    {
     "data": {
      "text/html": [
       "\n",
       "<button onclick=\"handleClick()\">Click me</button>\n",
       "<div id=\"result\"></div>\n",
       "\n",
       "<script>\n",
       "function handleClick() {\n",
       "  var now = new Date();\n",
       "  document.getElementById(\"result\").innerHTML = \n",
       "    \"Date: \" + now.getFullYear() + '-' + (now.getMonth()+1) + '-'+ now.getDate() + \"<br>\" +\n",
       "    \"Time: \" + now.getHours() + \":\" + now.getMinutes() + \":\" + now.getSeconds();\n",
       "}\n",
       "</script>\n"
      ],
      "text/plain": [
       "<IPython.core.display.HTML object>"
      ]
     },
     "metadata": {},
     "output_type": "display_data"
    }
   ],
   "source": [
    "%%html\n",
    "\n",
    "<button onclick=\"handleClick()\">Click me</button>\n",
    "<div id=\"result\"></div>\n",
    "\n",
    "<script>\n",
    "function handleClick() {\n",
    "  var now = new Date();\n",
    "  document.getElementById(\"result\").innerHTML = \n",
    "    \"Date: \" + now.getFullYear() + '-' + (now.getMonth()+1) + '-'+ now.getDate() + \"<br>\" +\n",
    "    \"Time: \" + now.getHours() + \":\" + now.getMinutes() + \":\" + now.getSeconds();\n",
    "}\n",
    "</script>"
   ]
  },
  {
   "cell_type": "markdown",
   "metadata": {},
   "source": [
    "## The ```<i>```,  ```<b>```, ```<u>```, ```<em>```, ```<mark>```, and ```<strong>``` Elements\n",
    "\n",
    "- ```<i>``` italic: https://developer.mozilla.org/en-US/docs/Web/HTML/Element/i\n",
    "- ```<b>``` bold: https://developer.mozilla.org/en-US/docs/Web/HTML/Element/b\n",
    "- ```<u>``` underline: https://developer.mozilla.org/en-US/docs/Web/HTML/Element/u\n",
    "- ```<em>``` emphasis: https://developer.mozilla.org/en-US/docs/Web/HTML/Element/em\n",
    "- ```<mark>``` marked: https://developer.mozilla.org/en-US/docs/Web/HTML/Element/mark\n",
    "- ```<strong>``` https://developer.mozilla.org/en-US/docs/Web/HTML/Element/strong"
   ]
  },
  {
   "cell_type": "code",
   "execution_count": 18,
   "metadata": {},
   "outputs": [
    {
     "data": {
      "text/html": [
       "\n",
       "<p>plain <i>italic</i> <b>bold</b> <u>underline</u> <em>emphasis</em> <mark>mark</mark> <strong>strong</strong></p>\n"
      ],
      "text/plain": [
       "<IPython.core.display.HTML object>"
      ]
     },
     "metadata": {},
     "output_type": "display_data"
    }
   ],
   "source": [
    "%%html\n",
    "\n",
    "<p>plain <i>italic</i> <b>bold</b> <u>underline</u> <em>emphasis</em> <mark>mark</mark> <strong>strong</strong></p>"
   ]
  },
  {
   "cell_type": "markdown",
   "metadata": {},
   "source": [
    "## The ```<abbr>```, ```<ins>```, ```<del>```, ```<sub>```, and ```<sup>``` Elements\n",
    "\n",
    "- ```<abbr>```abbreviation: https://developer.mozilla.org/en-US/docs/web/html/element/abbr\n",
    "- ```<ins>```inserted: https://developer.mozilla.org/en-US/docs/web/html/element/ins\n",
    "- ```<del>```deleted: https://developer.mozilla.org/en-US/docs/Web/HTML/Element/del\n",
    "- ```<sub>```subscript: https://developer.mozilla.org/en-US/docs/Web/HTML/Element/sub\n",
    "- ```<sup>```superscript: https://developer.mozilla.org/en-US/docs/Web/HTML/Element/sup"
   ]
  },
  {
   "cell_type": "code",
   "execution_count": 19,
   "metadata": {},
   "outputs": [
    {
     "data": {
      "text/html": [
       "\n",
       "<p>This is an abreviation <abbr title=\"Hypertext Markup Language\">HTML</abbr>, so hover your mouse over it to see what it stands for.</p>\n",
       "<p><ins>This text is displayed as inserted</ins><br/></p>\n",
       "<p><del>This text is displayed as deleted</del><br/></p>\n",
       "<p>x<sub>i</sub> is the i<sup>th</sup> element in an array</p>\n",
       "<p>x<sup>n</sup> is x raised to the power of n</p>\n"
      ],
      "text/plain": [
       "<IPython.core.display.HTML object>"
      ]
     },
     "metadata": {},
     "output_type": "display_data"
    }
   ],
   "source": [
    "%%html\n",
    "\n",
    "<p>This is an abreviation <abbr title=\"Hypertext Markup Language\">HTML</abbr>, so hover your mouse over it to see what it stands for.</p>\n",
    "<p><ins>This text is displayed as inserted</ins><br/></p>\n",
    "<p><del>This text is displayed as deleted</del><br/></p>\n",
    "<p>x<sub>i</sub> is the i<sup>th</sup> element in an array</p>\n",
    "<p>x<sup>n</sup> is x raised to the power of n</p>\n"
   ]
  },
  {
   "cell_type": "markdown",
   "metadata": {},
   "source": [
    "## The ```<dialog>``` Element: (trivial example)"
   ]
  },
  {
   "cell_type": "code",
   "execution_count": 20,
   "metadata": {},
   "outputs": [
    {
     "data": {
      "text/html": [
       "\n",
       "<dialog open>\n",
       "  <p>Greetings, one and all!</p>\n",
       "</dialog>\n"
      ],
      "text/plain": [
       "<IPython.core.display.HTML object>"
      ]
     },
     "metadata": {},
     "output_type": "display_data"
    }
   ],
   "source": [
    "%%html\n",
    "\n",
    "<dialog open>\n",
    "  <p>Greetings, one and all!</p>\n",
    "</dialog>"
   ]
  },
  {
   "cell_type": "markdown",
   "metadata": {},
   "source": [
    "..."
   ]
  },
  {
   "cell_type": "markdown",
   "metadata": {},
   "source": [
    "## The ```<dialog>``` Element (more advanced example)\n",
    "\n",
    "- The ```<dialog>``` Element: https://developer.mozilla.org/en-US/docs/Web/HTML/Element/dialog\n",
    "\n",
    "See: https://codepen.io/peterteach/pen/zYKxNZp"
   ]
  },
  {
   "cell_type": "markdown",
   "metadata": {},
   "source": [
    "## The ```<figure>``` Element\n",
    "\n",
    "- The ```<figure>``` Element: https://developer.mozilla.org/en-US/docs/Web/HTML/Element/figure"
   ]
  },
  {
   "cell_type": "code",
   "execution_count": 21,
   "metadata": {},
   "outputs": [
    {
     "data": {
      "text/html": [
       "\n",
       "<figure>\n",
       "    <img src=\"https://upload.wikimedia.org/wikipedia/commons/a/a1/Alan_Turing_Aged_16.jpg\"\n",
       "         alt=\"Elephant at sunset\">\n",
       "    <figcaption>Alan Turing at age 16</figcaption>\n",
       "</figure>\n"
      ],
      "text/plain": [
       "<IPython.core.display.HTML object>"
      ]
     },
     "metadata": {},
     "output_type": "display_data"
    }
   ],
   "source": [
    "%%html\n",
    "\n",
    "<figure>\n",
    "    <img src=\"https://upload.wikimedia.org/wikipedia/commons/a/a1/Alan_Turing_Aged_16.jpg\"\n",
    "         alt=\"Elephant at sunset\">\n",
    "    <figcaption>Alan Turing at age 16</figcaption>\n",
    "</figure>"
   ]
  },
  {
   "cell_type": "markdown",
   "metadata": {},
   "source": [
    "## The ```form``` Element\n",
    "\n",
    "The ```<form>``` element represents a section containing interactive controls for submitting information.\n",
    "\n",
    "See: https://developer.mozilla.org/en-US/docs/Learn/Forms\n",
    "    \n",
    "### Form Attributes\n",
    "\n",
    "* ```accept-charset``` specifies character encodings for form submission\n",
    "* ```action``` specifies where to send form-data when submitted\n",
    "* ```autocomplete``` specifies whether form should support data input autocompletion\n",
    "* ```enctype``` specifies how form-data is encoded when submitted to server (```post``` only)\n",
    "* ```method``` specifies HTTP method for sending form-data (```post``` or ```get```)\n",
    "* ```name``` specifies the name of the form\n",
    "* ```novalidate``` specifies that form is not to be validated when submitted\n",
    "* ```target``` specifies where to display the response to be received from submitting the form\n",
    "\n",
    "### Child Elements:\n",
    "\n",
    "* ```<input>``` specifies an input field where the user can enter data\n",
    "* ```<textarea>``` defines a multi-line text input control\n",
    "* ```<button>``` defines a clickable button\n",
    "* ```<select>``` creates a drop-down list\n",
    "* ```<option>``` defines an option in a ```select``` list\n",
    "* ```<optgroup>``` groups related options in a ```select``` element (drop-down list)\n",
    "* ```<fieldset>``` groups related elements in a ```form``` element\n",
    "* ```<label>``` defines a label for an ```input```, ```meter```, ```progress```, ```select```, or ```textarea``` element\n",
    "* ```<output>``` displays the result of a calculation output\n",
    "\n",
    "Client-side form validation: https://developer.mozilla.org/en-US/docs/Learn/Forms/Form_validation"
   ]
  },
  {
   "cell_type": "markdown",
   "metadata": {},
   "source": [
    "## Demo: Sending Form Data to a Python Web Server\n",
    "\n",
    "**NOTE**: Based on an example on ```https://developer.mozilla.org```\n",
    "\n",
    "- Read: https://developer.mozilla.org/en-US/docs/Learn/Forms/Sending_and_retrieving_form_data\n",
    "- Code: https://github.com/mdn/learning-area/blob/master/html/forms/sending-form-data\n",
    "      \n",
    "### But lets try it out using a local dev server instead of ```http://foo.com```\n",
    "\n",
    "1. Create a folder named ```forms```.\n",
    "\n",
    "2. In the ```forms``` folder, create a file named ```python-example.py```:\n",
    "\n",
    "```python\n",
    "from flask import Flask, render_template, request\n",
    "app = Flask(__name__)\n",
    "\n",
    "@app.route('/', methods=['GET', 'POST'])\n",
    "def form():\n",
    "    return render_template('form.html')\n",
    "\n",
    "@app.route('/hello', methods=['GET', 'POST'])\n",
    "def hello():\n",
    "    return render_template('greeting.html', say=request.form['say'], to=request.form['to'])\n",
    "\n",
    "if __name__ == \"__main__\":\n",
    "    app.run()\n",
    "```\n",
    "\n",
    "3. Create a sub-folder named ```templates``` and in that sub-folder, create two files named ```form.html``` and ```greeting.html```.\n",
    "\n",
    "4. In ```form.html```, add the following code:\n",
    "\n",
    "```html\n",
    "<!DOCTYPE html>\n",
    "    <html>\n",
    "    <head>\n",
    "      <meta charset=\"utf-8\">\n",
    "      <title>Python form submission example</title>\n",
    "      <style>\n",
    "        form {\n",
    "          width: 420px;\n",
    "        }\n",
    "        div {\n",
    "          margin-bottom: 20px;\n",
    "        }\n",
    "\n",
    "        label {\n",
    "          display: inline-block;\n",
    "          width: 240px;\n",
    "          text-align: right;\n",
    "          padding-right: 10px;\n",
    "        }\n",
    "        button, input {\n",
    "          float: right;\n",
    "        }\n",
    "      </style>\n",
    "    </head>\n",
    "    <body>\n",
    "      <form method=\"post\" action=\"{{ url_for('hello') }}\">\n",
    "        <div>\n",
    "          <label for=\"say\">What greeting do you want to say?</label>\n",
    "          <input name=\"say\" id=\"say\" value=\"Hi\">\n",
    "        </div>\n",
    "        <div>\n",
    "          <label for=\"to\">Who do you want to say it to?</label>\n",
    "          <input name=\"to\" id=\"to\" value=\"Mom\">\n",
    "        </div>\n",
    "        <div>\n",
    "          <button>Send my greetings</button>\n",
    "        </div>\n",
    "      </form>\n",
    "    </body>\n",
    "  </html>\n",
    "```\n",
    "\n",
    "5.  In ```greeting.html```, add the followoing code:\n",
    "```html\n",
    "<!DOCTYPE html>\n",
    "    <html>\n",
    "    <head>\n",
    "      <meta charset=\"utf-8\">\n",
    "      <title>Greeting</title>\n",
    "    </head>\n",
    "    <body>\n",
    "      <p>{{say}}  {{to}}</p>\n",
    "    </body>\n",
    "  </html>\n",
    "```\n",
    "\n",
    "6. Run dev server using VSCode Live server extension and view: http://127.0.0.1:5000\n",
    "\n",
    "<img src=\"img/greeting_1.png\" width=\"600\" />\n",
    "\n",
    "7. Click the **Send my greetings** Button\n",
    "\n",
    "<img src=\"img/greeting_2.png\" width=\"600\" />"
   ]
  },
  {
   "cell_type": "markdown",
   "metadata": {},
   "source": [
    "\n",
    "## Review Forms Topics\n",
    "\n",
    "- https://www.tutorialspoint.com/html/html_forms.htm\n",
    "- https://www.w3schools.com/html/html_forms.asp\n",
    "- https://www.freecodecamp.org/news/a-step-by-step-guide-to-getting-started-with-html-forms-7f77ae4522b5\n",
    "- https://html.com/forms\n",
    "- https://html.com/forms/tutorial/\n",
    "- https://github.com/mdn/learning-area/tree/master/html/forms\n"
   ]
  },
  {
   "cell_type": "markdown",
   "metadata": {},
   "source": [
    "## HTML Escape Character Sequences\n",
    "\n",
    "- An escape character sequence allows any character to be encoded using only ASCII characters within code.\n",
    "- For example, you can escape the euro sign **€** or the international copyright symbol **©** in your code\n",
    "- For special symbols and characters in international languages, you can use special escape sequences\n",
    "- See: https://mottie.github.io/Unicode/index.html\n",
    "\n",
    "Here are a few examples of special escaped characters:\n",
    "\n",
    "- ```&amp;``` is the escape sequence for the **&** character\n",
    "- ```&lt;```  is the escape sequence for the **<** character\n",
    "- ```&gt;```  is the escape sequence for the **>** character\n",
    "- ```&quot;``` is the escape sequence for the **\"** character\n",
    "- ```&#39;``` is the escape sequence for the **'** character\n",
    "\n",
    "- ```&pound;``` is the named character escape sequences for the **£** pound\tcharacter\n",
    "- ```&#163;``` is the decimal escape sequences for the **£** pound character\n",
    "- ```&#xA3;``` is the hexadecimal escape sequences for the **€** euro character\n",
    "\n",
    "- ```&euro;``` is the named character escape sequences for the **€** euro character\n",
    "- ```&#8364;``` is the decimal escape sequences for the **€** euro character\n",
    "- ```&#x20AC;``` is the hexadecimal escape sequences for the **€** euro character\n",
    "\n",
    "- ```&yen;``` is the named escape sequences for the **¥** yen character\n",
    "- ```&#165;``` is the decimal escape sequences for the **¥** yen character\n",
    "- ```&#xA5;``` is the hexadecimal escape sequences for the **€** euro character"
   ]
  },
  {
   "cell_type": "code",
   "execution_count": 22,
   "metadata": {},
   "outputs": [
    {
     "data": {
      "text/html": [
       "\n",
       "&amp;\n",
       "&lt;\n",
       "&gt;\n",
       "&quot;\n",
       "&#39;\n",
       "&pound;\n",
       "&#163;\n",
       "&#xA3\n",
       "&euro;\n",
       "&#x20AC;\n",
       "&#8364;\n",
       "&yen;\n",
       "&#165;\n",
       "&#xA5\n"
      ],
      "text/plain": [
       "<IPython.core.display.HTML object>"
      ]
     },
     "metadata": {},
     "output_type": "display_data"
    }
   ],
   "source": [
    "%%html\n",
    "\n",
    "&amp;\n",
    "&lt;\n",
    "&gt;\n",
    "&quot;\n",
    "&#39;\n",
    "&pound;\n",
    "&#163;\n",
    "&#xA3\n",
    "&euro;\n",
    "&#x20AC;\n",
    "&#8364;\n",
    "&yen;\n",
    "&#165;\n",
    "&#xA5"
   ]
  },
  {
   "cell_type": "markdown",
   "metadata": {},
   "source": [
    "## The ```<canvas>``` Element (imperative graphics)\n",
    "\n",
    "See: https://developer.mozilla.org/en-US/docs/Web/HTML/Element/canvas"
   ]
  },
  {
   "cell_type": "code",
   "execution_count": 1,
   "metadata": {},
   "outputs": [
    {
     "data": {
      "text/html": [
       "\n",
       "<canvas id=\"canvas1\" width=\"200\" height=\"200\" style=\"border:1px solid #000000;\">\n",
       "Your browser does not support the HTML5 canvas tag.</canvas>\n",
       "\n",
       "<script>\n",
       "var c = document.getElementById(\"canvas1\");\n",
       "var ctx = c.getContext(\"2d\");\n",
       "ctx.moveTo(0,0);\n",
       "ctx.lineTo(200,200);\n",
       "ctx.strokeStyle = '#ff0000';\n",
       "ctx.stroke();\n",
       "ctx.beginPath();\n",
       "ctx.arc(100, 100, 40, 0, 2 * Math.PI);\n",
       "ctx.strokeStyle = '#00ff00';\n",
       "ctx.stroke();\n",
       "ctx.font = \"20px Comic Sans MS\";\n",
       "ctx.fillStyle = '#0000ff';\n",
       "ctx.fillText(\"Hello Canvas\", 70, 50);\n",
       "</script>\n"
      ],
      "text/plain": [
       "<IPython.core.display.HTML object>"
      ]
     },
     "metadata": {},
     "output_type": "display_data"
    }
   ],
   "source": [
    "%%html\n",
    "\n",
    "<canvas id=\"canvas1\" width=\"200\" height=\"200\" style=\"border:1px solid #000000;\">\n",
    "Your browser does not support the HTML5 canvas tag.</canvas>\n",
    "\n",
    "<script>\n",
    "var c = document.getElementById(\"canvas1\");\n",
    "var ctx = c.getContext(\"2d\");\n",
    "ctx.moveTo(0,0);\n",
    "ctx.lineTo(200,200);\n",
    "ctx.strokeStyle = '#ff0000';\n",
    "ctx.stroke();\n",
    "ctx.beginPath();\n",
    "ctx.arc(100, 100, 40, 0, 2 * Math.PI);\n",
    "ctx.strokeStyle = '#00ff00';\n",
    "ctx.stroke();\n",
    "ctx.font = \"20px Comic Sans MS\";\n",
    "ctx.fillStyle = '#0000ff';\n",
    "ctx.fillText(\"Hello Canvas\", 70, 50);\n",
    "</script>"
   ]
  },
  {
   "cell_type": "markdown",
   "metadata": {},
   "source": [
    " ## The ```<svg>``` Element (declarative graphics)\n",
    " \n",
    " See: https://developer.mozilla.org/en-US/docs/Web/SVG/Element/svg"
   ]
  },
  {
   "cell_type": "code",
   "execution_count": 2,
   "metadata": {},
   "outputs": [
    {
     "data": {
      "text/html": [
       "\n",
       "<svg width='200' height='200' style=\"border:1px solid #000000;\">\n",
       "<rect x='100' y='40' width='80' height='80' style='fill: red;'></rect>\n",
       "<circle cx=\"50\" cy=\"50\" r=\"40\" stroke=\"green\" stroke-width=\"4\" fill=\"yellow\" />\n",
       "<ellipse cx=\"100\" cy=\"150\" rx=\"80\" ry=\"50\" style=\"fill:yellow;stroke:blue;stroke-width:2\" />\n",
       "<line x1=\"0\" y1=\"0\" x2=\"200\" y2=\"200\" style=\"stroke:rgb(255,0,0);stroke-width:5\" />\n",
       "<text x=\"100\" y=\"20\" fill=\"magenta\">Hello SVG</text>\n",
       "</svg>\n"
      ],
      "text/plain": [
       "<IPython.core.display.HTML object>"
      ]
     },
     "metadata": {},
     "output_type": "display_data"
    }
   ],
   "source": [
    "%%html\n",
    "\n",
    "<svg width='200' height='200' style=\"border:1px solid #000000;\">\n",
    "<rect x='100' y='40' width='80' height='80' style='fill: red;'></rect>\n",
    "<circle cx=\"50\" cy=\"50\" r=\"40\" stroke=\"green\" stroke-width=\"4\" fill=\"yellow\" />\n",
    "<ellipse cx=\"100\" cy=\"150\" rx=\"80\" ry=\"50\" style=\"fill:yellow;stroke:blue;stroke-width:2\" />\n",
    "<line x1=\"0\" y1=\"0\" x2=\"200\" y2=\"200\" style=\"stroke:rgb(255,0,0);stroke-width:5\" />\n",
    "<text x=\"100\" y=\"20\" fill=\"magenta\">Hello SVG</text>\n",
    "</svg>"
   ]
  },
  {
   "cell_type": "markdown",
   "metadata": {},
   "source": [
    "## CSS3 SVG Sprite Example\n",
    "\n",
    "- See: https://codesandbox.io/s/laughing-dawn-ziwer?file=/index.html"
   ]
  },
  {
   "cell_type": "markdown",
   "metadata": {},
   "source": [
    "## The ```pre``` Element\n",
    "\n",
    "- The ```pre``` element defines preformatted text\n",
    "- Defaults to fixed-width font\n",
    "- Preserves white-space and line breaks\n",
    "\n",
    "See: https://developer.mozilla.org/en-US/docs/Web/HTML/Element/pre"
   ]
  },
  {
   "cell_type": "code",
   "execution_count": 25,
   "metadata": {},
   "outputs": [
    {
     "data": {
      "text/html": [
       "\n",
       "<pre>\n",
       "You think you've lost your love\n",
       "    Well, I saw her yesterday-ay\n",
       "        It's you she's thinking of\n",
       "            And she told me what to say-ay\n",
       "            She says she loves you\n",
       "        And you know that can't be bad\n",
       "    Yes, she loves you\n",
       "And you know you should be glad\n",
       "\n",
       "                      -- The Beatles, 1963\n",
       "</pre>\n"
      ],
      "text/plain": [
       "<IPython.core.display.HTML object>"
      ]
     },
     "metadata": {},
     "output_type": "display_data"
    }
   ],
   "source": [
    "%%html\n",
    "\n",
    "<pre>\n",
    "You think you've lost your love\n",
    "    Well, I saw her yesterday-ay\n",
    "        It's you she's thinking of\n",
    "            And she told me what to say-ay\n",
    "            She says she loves you\n",
    "        And you know that can't be bad\n",
    "    Yes, she loves you\n",
    "And you know you should be glad\n",
    "\n",
    "                      -- The Beatles, 1963\n",
    "</pre>"
   ]
  },
  {
   "cell_type": "markdown",
   "metadata": {},
   "source": [
    "## The ```<table>``` Element\n",
    "\n",
    "See: https://developer.mozilla.org/en-US/docs/Web/HTML/Element/table"
   ]
  },
  {
   "cell_type": "code",
   "execution_count": 26,
   "metadata": {},
   "outputs": [
    {
     "data": {
      "text/html": [
       "\n",
       "<table>\n",
       "  <tr>\n",
       "    <th>First Name</th>\n",
       "    <th>Last Name</th>\n",
       "    <th>Age</th>\n",
       "  </tr>\n",
       "  <tr>\n",
       "    <td>Sammy</td>\n",
       "    <td>Danforth</td>\n",
       "    <td>30</td>\n",
       "  </tr>\n",
       "  <tr>\n",
       "    <td>Sally</td>\n",
       "    <td>Simpson</td>\n",
       "    <td>45</td>\n",
       "  </tr>\n",
       "</table>\n"
      ],
      "text/plain": [
       "<IPython.core.display.HTML object>"
      ]
     },
     "metadata": {},
     "output_type": "display_data"
    }
   ],
   "source": [
    "%%html\n",
    "\n",
    "<table>\n",
    "  <tr>\n",
    "    <th>First Name</th>\n",
    "    <th>Last Name</th>\n",
    "    <th>Age</th>\n",
    "  </tr>\n",
    "  <tr>\n",
    "    <td>Sammy</td>\n",
    "    <td>Danforth</td>\n",
    "    <td>30</td>\n",
    "  </tr>\n",
    "  <tr>\n",
    "    <td>Sally</td>\n",
    "    <td>Simpson</td>\n",
    "    <td>45</td>\n",
    "  </tr>\n",
    "</table>"
   ]
  },
  {
   "cell_type": "markdown",
   "metadata": {},
   "source": [
    "## The ```<script>``` Element\n",
    "\n",
    "* Embedded JavaScript code\n",
    "```html\n",
    "<script>\n",
    "    // some JavaScript code\n",
    "</script>\n",
    "```\n",
    "* External JavaScript Code (```async``` loads script in background without blocking rest of page)\n",
    "```html\n",
    "<script src=\"somescriptfile.js\" async></script>\n",
    "```\n",
    "\n",
    "### Demo\n",
    "\n",
    "See Digital Clock with setTimeout (CodePen) Example: https://codepen.io/peterteach/pen/vYXEvNY"
   ]
  },
  {
   "cell_type": "markdown",
   "metadata": {},
   "source": [
    "## The ```<output>``` Element\n",
    "\n",
    "The ```<output>``` element provides a container where calculation results can be injected.\n",
    "\n",
    "- See: https://developer.mozilla.org/en-US/docs/Web/HTML/Element/output\n",
    "        \n",
    "        \n"
   ]
  },
  {
   "cell_type": "code",
   "execution_count": 27,
   "metadata": {},
   "outputs": [
    {
     "data": {
      "text/html": [
       "<!-- https://developer.mozilla.org/en-US/docs/Web/HTML/Element/output -->\n",
       "\n",
       "<form oninput=\"result.value=parseInt(a.value)+parseInt(b.value)\">\n",
       "  <input type=\"range\" id=\"b\" name=\"b\" value=\"50\" /> +\n",
       "  <input type=\"number\" id=\"a\" name=\"a\" value=\"10\" /> =\n",
       "  <output name=\"result\" for=\"a b\">60</output>\n",
       "</form>\n"
      ],
      "text/plain": [
       "<IPython.core.display.HTML object>"
      ]
     },
     "metadata": {},
     "output_type": "display_data"
    }
   ],
   "source": [
    "%%html\n",
    "<!-- https://developer.mozilla.org/en-US/docs/Web/HTML/Element/output -->\n",
    "\n",
    "<form oninput=\"result.value=parseInt(a.value)+parseInt(b.value)\">\n",
    "  <input type=\"range\" id=\"b\" name=\"b\" value=\"50\" /> +\n",
    "  <input type=\"number\" id=\"a\" name=\"a\" value=\"10\" /> =\n",
    "  <output name=\"result\" for=\"a b\">60</output>\n",
    "</form>"
   ]
  },
  {
   "cell_type": "markdown",
   "metadata": {},
   "source": [
    "## Event Handeling\n",
    "\n",
    "There are many events that you can handle in JavaScript:\n",
    "\n",
    "See: https://developer.mozilla.org/en-US/docs/Web/Events\n",
    "\n",
    "- ```load``` - https://developer.mozilla.org/en-US/docs/Web/API/Window/load_event\n",
    "- ```focus``` - https://developer.mozilla.org/en-US/docs/Web/API/Element/focus_event\n",
    "- ```blur``` - https://developer.mozilla.org/en-US/docs/Web/API/Element/blur_event\n",
    "- ```click``` - https://developer.mozilla.org/en-US/docs/Web/API/Element/click_event\n",
    "- ```mousemove``` - https://developer.mozilla.org/en-US/docs/Web/API/Element/mousemove_event\n",
    "- ```drag``` - https://developer.mozilla.org/en-US/docs/Web/API/Document/drag_event\n",
    "- ```drag start``` - https://developer.mozilla.org/en-US/docs/Web/API/Document/dragstart_event\n",
    "- ```dragenter``` - https://developer.mozilla.org/en-US/docs/Web/API/Document/dragenter_event\n",
    "- ```dragover``` - https://developer.mozilla.org/en-US/docs/Web/API/Document/dragover_event\n",
    "- ```dragleave``` - https://developer.mozilla.org/en-US/docs/Web/API/Document/dragleave_event\n",
    "- ```dragend``` - https://developer.mozilla.org/en-US/docs/Web/API/Document/dragend_event\n",
    "- ```drop``` - https://developer.mozilla.org/en-US/docs/Web/API/Document/drop_event\n",
    "- ```keydown``` - https://developer.mozilla.org/en-US/docs/Web/API/Document/keydown_event\n",
    "- ```keypress``` - https://developer.mozilla.org/en-US/docs/Web/API/Document/keypress_event\n",
    "- ```keyup``` - https://developer.mozilla.org/en-US/docs/Web/API/Document/keyup_event\n",
    "- ```submit``` - https://developer.mozilla.org/en-US/docs/Web/API/HTMLFormElement/submit_event\n",
    "- ```cut``` - https://developer.mozilla.org/en-US/docs/Web/API/Element/cut_event\n",
    "- ```copy``` - https://developer.mozilla.org/en-US/docs/Web/API/Element/copy_event\n",
    "- ```paste``` - https://developer.mozilla.org/en-US/docs/Web/API/Element/paste_event\n",
    "- and many more..."
   ]
  },
  {
   "cell_type": "code",
   "execution_count": 1,
   "metadata": {},
   "outputs": [
    {
     "data": {
      "text/html": [
       "\n",
       "<button type=\"button\" onclick=\"document.getElementById('out').innerHTML = Date()\">Display current date and time.</button>\n",
       "<div id=\"out\"></div>\n"
      ],
      "text/plain": [
       "<IPython.core.display.HTML object>"
      ]
     },
     "metadata": {},
     "output_type": "display_data"
    }
   ],
   "source": [
    "%%html\n",
    "\n",
    "<button type=\"button\" onclick=\"document.getElementById('out').innerHTML = Date()\">Display current date and time.</button>\n",
    "<div id=\"out\"></div>"
   ]
  },
  {
   "cell_type": "markdown",
   "metadata": {},
   "source": [
    "### Demo: ```mousemove``` Event Drawing Example\n",
    "\n",
    "See Event Drawing (CodePen) Example: https://codepen.io/peterteach/pen/NWRPLBy"
   ]
  },
  {
   "cell_type": "markdown",
   "metadata": {},
   "source": [
    "## HTML5 and CSS3 Topics\n",
    "\n",
    "* [HTML5 (Hypertext Markup Language)](HTML5.ipynb)\n",
    "* [CSS3 (Cascading Style Sheets)](CSS3.ipynb)"
   ]
  },
  {
   "cell_type": "markdown",
   "metadata": {},
   "source": [
    "## Homework\n",
    "\n",
    "- FreeCodeCamp - How to Make a Landing Page using HTML, SCSS, and JavaScript\n",
    "  - https://www.youtube.com/watch?v=aoQ6S1a32j8\n",
    "- FreeCodeCamp - How to Put a Website Online: Template, Coding, Domain, Hosting, and DNS\n",
    "  - https://www.youtube.com/watch?v=NQP89ish9t8"
   ]
  },
  {
   "cell_type": "markdown",
   "metadata": {},
   "source": [
    "\n",
    "## Free HTML5 and CSS3 Learning Resources\n",
    "\n",
    "### HTML5\n",
    "* [W3C HTML 5.2 W3C Recommendation](https://www.w3.org/TR/html52)\n",
    "* [DevDocs.io](https://devdocs.io)\n",
    "* [MDN Web Docs](5https://developer.mozilla.org/en-US/docs/Web)\n",
    "                       \n",
    "\n",
    "### CSS3\n",
    "* [W3C: Cascading Style Sheets](https://www.w3.org/Style/CSS/Overview.en.html)\n",
    "* [CSS: Cascading Style Sheets](https://developer.mozilla.org/en-US/docs/Web/CSS)"
   ]
  },
  {
   "cell_type": "markdown",
   "metadata": {},
   "source": [
    "## Learning Resources\n",
    "\n",
    "- **W3C HTML 5.2 W3C Recommendation** https://www.w3.org/TR/html52\n",
    "- **MDN Web Docs** https://developer.mozilla.org/en-US/docs/Web\n",
    "- **DevDocs.io** https://devdocs.io\n",
    "- **MDN: HyperText Markup Language** https://developer.mozilla.org/en-US/docs/Web/HTML\n",
    "- **MDN: HTML5** https://developer.mozilla.org/en-US/docs/Web/Guide/HTML/HTML5\n",
    "- **MDN: HTML Elements Reference** https://developer.mozilla.org/en-US/docs/Web/HTML/Element\n",
    "- **HTML in Visual Studio Code** https://code.visualstudio.com/docs/languages/html\n",
    "- **HTML Tutorial** https://www.w3schools.com/html/default.asp\n",
    "- **HTML Tutorial** https://www.tutorialspoint.com/html/index.htm\n",
    "- **Getting Started with HTML & CSS** https://www.learn-html.org\n",
    "- **W3C: Cascading Style Sheets** https://www.w3.org/Style/CSS/Overview.en.html\n",
    "- **CSS: Cascading Style Sheets** https://developer.mozilla.org/en-US/docs/Web/CSS\n",
    "- **DOM Docs** https://developer.mozilla.org/en-US/docs/Web/API/Document_Object_Model\n",
    "- **DOM Enlightenment** http://domenlightenment.com\n",
    "- **AJAX** https://developer.mozilla.org/en-US/docs/Web/Guide/AJAX\n",
    "- **XMLHttpRequest** https://developer.mozilla.org/en-US/docs/Web/API/XMLHttpRequest\n",
    "- **Fetch** https://developer.mozilla.org/en-US/docs/Web/API/Fetch_API\n",
    "- **Axios** https://www.npmjs.com/package/axios\n",
    "- **Bootstrap** https://getbootstrap.com"
   ]
  },
  {
   "cell_type": "code",
   "execution_count": null,
   "metadata": {},
   "outputs": [],
   "source": []
  }
 ],
 "metadata": {
  "kernelspec": {
   "display_name": "Python 3",
   "language": "python",
   "name": "python3"
  },
  "language_info": {
   "codemirror_mode": {
    "name": "ipython",
    "version": 3
   },
   "file_extension": ".py",
   "mimetype": "text/x-python",
   "name": "python",
   "nbconvert_exporter": "python",
   "pygments_lexer": "ipython3",
   "version": "3.8.5"
  }
 },
 "nbformat": 4,
 "nbformat_minor": 4
}
