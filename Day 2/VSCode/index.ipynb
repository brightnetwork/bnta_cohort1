{
 "cells": [
  {
   "cell_type": "markdown",
   "metadata": {},
   "source": [
    "# Visual Studio Code (30 Minute)\n",
    "\n",
    "- Open source cross-platform source code editor\n",
    "- Most popular code editor for Web Development (and many other programming enviroments as well)\n",
    "- Large number of extension available for special purposes\n",
    "- Supports many programming languages: C++, C#, Go, Java, Python, JavaScript, TypeScript, etc."
   ]
  },
  {
   "cell_type": "markdown",
   "metadata": {},
   "source": [
    "## Setting up Visual Studio Code\n",
    "\n",
    "See: https://code.visualstudio.com/docs/setup/setup-overview"
   ]
  },
  {
   "cell_type": "markdown",
   "metadata": {},
   "source": [
    "## Visual Studio Python and Node Docs\n",
    "\n",
    "- Visual Studio | Python documentation:\n",
    " - https://docs.microsoft.com/en-us/visualstudio/python/?view=vs-2019\n",
    "- Visual Studio tutorials | JavaScript and TypeScript:\n",
    "  - https://docs.microsoft.com/en-us/visualstudio/javascript/?view=vs-2019"
   ]
  },
  {
   "cell_type": "markdown",
   "metadata": {},
   "source": [
    "## Quick Start: First look at the Visual Studio IDE:\n",
    "  - https://docs.microsoft.com/en-us/visualstudio/ide/quickstart-ide-orientation?view=vs-2019"
   ]
  },
  {
   "cell_type": "markdown",
   "metadata": {},
   "source": [
    "## Default Keyboard Shortcuts and Commands\n",
    "\n",
    "- Popular keyboard shortcuts: https://docs.microsoft.com/en-us/visualstudio/ide/default-keyboard-shortcuts-for-frequently-used-commands-in-visual-studio?view=vs-2019\n",
    "- All Commands: https://docs.microsoft.com/en-us/visualstudio/ide/default-keyboard-shortcuts-in-visual-studio?view=vs-2019"
   ]
  },
  {
   "cell_type": "markdown",
   "metadata": {},
   "source": [
    "## Lab\n",
    "\n",
    "- Quickstart: Create your first Python web app using Visual Studio:\n",
    "  - https://docs.microsoft.com/en-us/visualstudio/ide/quickstart-python?view=vs-2019\n",
    "- Quickstart: Use Visual Studio to create your first Node.js app:\n",
    "  - https://docs.microsoft.com/en-us/visualstudio/ide/quickstart-nodejs?view=vs-2019\n",
    "- Tutorial: Create a Node.js and Express app in Visual Studio:\n",
    "  - https://docs.microsoft.com/en-us/visualstudio/javascript/tutorial-nodejs?view=vs-2019\n",
    "- Tutorial: Create a Node.js and React app in Visual Studio:\n",
    "  - https://docs.microsoft.com/en-us/visualstudio/javascript/tutorial-nodejs-with-react-and-jsx?view=vs-2019\n",
    "- Create a Vue.js application using Node.js Tools for Visual Studio:\n",
    "  - https://docs.microsoft.com/en-us/visualstudio/javascript/create-application-with-vuejs?view=vs-2019\n",
    "- Debug a JavaScript or TypeScript app in Visual Studio:\n",
    "  - https://docs.microsoft.com/en-us/visualstudio/javascript/debug-nodejs?view=vs-2019\n",
    "- Write and edit code:\n",
    "  - https://docs.microsoft.com/en-us/visualstudio/javascript/write-and-edit-code?view=vs-2019"
   ]
  },
  {
   "cell_type": "markdown",
   "metadata": {},
   "source": [
    "## Homework\n",
    "\n",
    "- Visual Studio Code Crash Course (≈120 minutes): https://www.youtube.com/watch?v=WPqXP_kLzpo\n",
    "- Be prepared to present the concepts in class"
   ]
  },
  {
   "cell_type": "markdown",
   "metadata": {},
   "source": [
    "## Learning Resources:\n",
    "\n",
    "- **Getting Started** https://code.visualstudio.com/docs\n",
    "- **Learn to code with Visual Studio Code** https://code.visualstudio.com/learn"
   ]
  },
  {
   "cell_type": "code",
   "execution_count": null,
   "metadata": {},
   "outputs": [],
   "source": []
  }
 ],
 "metadata": {
  "kernelspec": {
   "display_name": "Python 3",
   "language": "python",
   "name": "python3"
  },
  "language_info": {
   "codemirror_mode": {
    "name": "ipython",
    "version": 3
   },
   "file_extension": ".py",
   "mimetype": "text/x-python",
   "name": "python",
   "nbconvert_exporter": "python",
   "pygments_lexer": "ipython3",
   "version": "3.8.5"
  }
 },
 "nbformat": 4,
 "nbformat_minor": 4
}
