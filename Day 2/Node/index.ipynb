{
 "cells": [
  {
   "cell_type": "markdown",
   "metadata": {},
   "source": [
    "# Node (30 Minute)\n",
    "\n",
    "Node.js is a free, open-sourced, cross-platform JavaScript run-time environment that allows developers to write command line tools and server-side scripts outside of a web browser.\n",
    "\n",
    "**NOTE:** This Node.js topic is intentionally very brief. Using Node to its fullest capabilities requires much more time and effort than is possible in this course. We are only trying to get the basic ideas of what it is, how it works, and some of the terminologies, along with a few of the simplest and most common Node commands to get you started on learning more on your own. After the course is completed, it is recommended that you continue to study some of the deeper aspects, since Node is an important tool used by programmers and system administrators.\n",
    "\n",
    "Node.js was initially written by Ryan Dahl in 2009, as an open-source, cross-platform, JavaScript execution environment that runs stand-alone (i.e. outside the web browser). This supports a CLI (Command Line INterface) that can be used for running many software development tools. It also can be used for running a web server using a server-side JavaScript web framework, such as Express, which is known as server-side scripting. Using JavaScript universally, in both the client, and the server, as well as for running all software development and deployment tools can be adventageous. "
   ]
  },
  {
   "cell_type": "markdown",
   "metadata": {},
   "source": [
    "## Topics\n",
    "\n",
    "- Setup\n",
    "- Modules and Packages\n",
    "- NPM\n",
    "- Web Servers\n",
    "- Database Access\n",
    "- Express"
   ]
  },
  {
   "cell_type": "markdown",
   "metadata": {},
   "source": [
    "## Docs\n",
    "\n",
    "- https://nodejs.org/en/docs"
   ]
  },
  {
   "cell_type": "markdown",
   "metadata": {},
   "source": [
    "## Node Pre-Read Assignment\n",
    "\n",
    "- Explore: https://nodejs.dev/learn\n",
    "- Be prepared to provide a brief in-class presentation on any of the following concepts:"
   ]
  },
  {
   "cell_type": "markdown",
   "metadata": {},
   "source": [
    "## Installing Node\n",
    "\n",
    "- **Install Node** https://nodejs.org/en/download\n",
    "- **Test Node installation** ```node --version```\n",
    "- **Test NPM installation** ```npm --version```"
   ]
  },
  {
   "cell_type": "markdown",
   "metadata": {},
   "source": [
    "## Node Tutorials and Node Demos\n",
    "\n",
    "- **Node.js Process Model** https://www.tutorialsteacher.com/nodejs/nodejs-process-model\n",
    "- **Setup Node.js Development Environment** https://www.tutorialsteacher.com/nodejs/setup-nodejs-development-environment\n",
    "- **Node.js Console** https://www.tutorialsteacher.com/nodejs/nodejs-console-repl\n",
    "- **Node.js Basics** https://www.tutorialsteacher.com/nodejs/nodejs-basics\n",
    "- **Node.js Module** https://www.tutorialsteacher.com/nodejs/nodejs-modules\n",
    "- **Node.js Local** Module https://www.tutorialsteacher.com/nodejs/nodejs-local-modules\n",
    "- **Export Module in Node.js** https://www.tutorialsteacher.com/nodejs/nodejs-module-exports\n",
    "- **NPM - Node Package Manager** https://www.tutorialsteacher.com/nodejs/what-is-node-package-manager\n",
    "- **Node.js Web Server** https://www.tutorialsteacher.com/nodejs/create-nodejs-web-server\n",
    "- **Node.js File System** https://www.tutorialsteacher.com/nodejs/nodejs-file-system\n",
    "- **Debug Node.js Application** https://www.tutorialsteacher.com/nodejs/debug-nodejs-application\n",
    "- **Express.js** https://www.tutorialsteacher.com/nodejs/expressjs\n",
    "- **Express.js** Web Application    https://www.tutorialsteacher.com/nodejs/expressjs-web-application\n",
    "- **Serving Static Resources in Node.js** https://www.tutorialsteacher.com/nodejs/serving-static-files-in-nodejs\n",
    "- **Data Access in Node.js** https://www.tutorialsteacher.com/nodejs/data-access-in-nodejs\n",
    "- **Access SQL Server in Node.js** https://www.tutorialsteacher.com/nodejs/access-sql-server-in-nodejs\n",
    "- **Access MongoDB in Node.js** https://www.tutorialsteacher.com/nodejs/access-mongodb-in-nodejs"
   ]
  },
  {
   "cell_type": "markdown",
   "metadata": {},
   "source": [
    "## NPM\n",
    "\n",
    "- Stands for **Node Package Manager**\n",
    "- The standard package manager used in JavaScript-based projects\n",
    "- Consists of a command line client named **npm** and an online **npm registry** (database of node packages) \n",
    "- **NPM CLI** https://docs.npmjs.com/cli/v6/commands/npm\n",
    "  - For example: ```npm-install``` installs packages (within a project or globally): https://docs.npmjs.com/cli/v6/commands/npm-install"
   ]
  },
  {
   "cell_type": "markdown",
   "metadata": {},
   "source": [
    "## Node Lab\n",
    "\n",
    "- Work through the article at: https://nodeschool.io\n"
   ]
  },
  {
   "cell_type": "markdown",
   "metadata": {},
   "source": [
    "## Node Homework\n",
    "\n",
    "- Explore: https://www.tutorialspoint.com/nodejs/index.htm\n",
    "- Be prepared to present these concepts in class"
   ]
  },
  {
   "cell_type": "markdown",
   "metadata": {},
   "source": [
    "## Node Learning Resources\n",
    "\n",
    "- https://nodejs.org/en/docs"
   ]
  },
  {
   "cell_type": "code",
   "execution_count": null,
   "metadata": {},
   "outputs": [],
   "source": []
  }
 ],
 "metadata": {
  "kernelspec": {
   "display_name": "Python 3",
   "language": "python",
   "name": "python3"
  },
  "language_info": {
   "codemirror_mode": {
    "name": "ipython",
    "version": 3
   },
   "file_extension": ".py",
   "mimetype": "text/x-python",
   "name": "python",
   "nbconvert_exporter": "python",
   "pygments_lexer": "ipython3",
   "version": "3.8.5"
  }
 },
 "nbformat": 4,
 "nbformat_minor": 4
}
