{
 "cells": [
  {
   "cell_type": "markdown",
   "metadata": {},
   "source": [
    "# Collaboration (60 Minute)\n",
    "\n",
    "- The world of programming is all about collaboration!\n",
    "- Collaboration makes the virtually impossible possible\n",
    "- Collaboration results from learning and doing, and then teaching and coordinating with others\n",
    "- Collaboration is only possible where there is a common goal\n",
    "- Collaboration requires organized effort\n",
    "- Collaboration requires process and language (Whiteboarding, UML, Pseudocode, Agile tools, etc.)\n",
    "- Collaboration requires practice to develop the required skills and attitude"
   ]
  },
  {
   "cell_type": "markdown",
   "metadata": {},
   "source": [
    "## Topics\n",
    "\n",
    "- Whiteboarding\n",
    "- UML\n",
    "- Pseudocode\n",
    "- Agile: Scrum and Kanban\n",
    "- Communication Tools:\n",
    "  - Live Code Sharing\n",
    "  - Slack\n",
    "  - Trello\n",
    "  - Jira\n",
    "  - Google Docs\n",
    "  - Figma, Lucidchart\n",
    "  - Moqups\n",
    "  - GitHub\n",
    "  - Docker\n",
    "  - etc."
   ]
  },
  {
   "cell_type": "markdown",
   "metadata": {},
   "source": [
    "## Pre-Read Assignment\n",
    "\n",
    "- Read: https://hackernoon.com/5-best-collaboration-platforms-for-developers-0nh1306l\n",
    "- Be prepared to provide a brief in-class presentation on any of the following terms:"
   ]
  },
  {
   "cell_type": "markdown",
   "metadata": {},
   "source": [
    "### John Ellis CBE FRS \"Whiteboarding\"\n",
    "Clerk Maxwell Professor of Theoretical Physics at King's College London\n",
    "![Solution Architecture](img/JohnEllisWhiteboarding.jpg)\n",
    "\n",
    "---\n",
    "\n",
    "### A Design for a Fitness Training Mobile App\n",
    "![Solution Architecture](img/FitnessTrainingMobileApp.png)\n",
    "\n",
    "---\n",
    "\n",
    "### A Design for a National Agriculture Registry\n",
    "\n",
    "![System Architecture](img/NantionalAgricultureRegistry.png)\n",
    "\n",
    "### Database Design\n",
    "\n",
    "- From: https://en.wikipedia.org/wiki/Database_design\n",
    "\n",
    "![Entity-Relationship Diagram Example](https://upload.wikimedia.org/wikipedia/commons/7/72/ER_Diagram_MMORPG.png)"
   ]
  },
  {
   "cell_type": "markdown",
   "metadata": {},
   "source": [
    "###  UML (Unified Modeling Language)\n",
    "\n",
    "See: https://en.wikipedia.org/wiki/Unified_Modeling_Language\n",
    "\n",
    "See: OMG Unified Modeling Language (official docs): https://www.omg.org/spec/UML/2.4.1/Superstructure/PDF\n",
    "\n",
    "- Structural UML diagrams\n",
    "\n",
    "  - Class diagram: https://en.wikipedia.org/wiki/Class_diagram\n",
    "  - Component diagram: https://en.wikipedia.org/wiki/Component_diagram\n",
    "  - Composite structure diagram: https://en.wikipedia.org/wiki/Composite_structure_diagram\n",
    "  - Deployment diagram: https://en.wikipedia.org/wiki/Deployment_diagram\n",
    "  - Object diagram: https://en.wikipedia.org/wiki/Object_diagram\n",
    "  - Package diagram: https://en.wikipedia.org/wiki/Package_diagram\n",
    "  - Profile diagram: https://en.wikipedia.org/wiki/Profile_diagram\n",
    "  \n",
    "- Behavioral UML diagrams\n",
    "\n",
    "  - Activity diagram: https://en.wikipedia.org/wiki/Activity_diagram\n",
    "  - Communication diagram: https://en.wikipedia.org/wiki/Communication_diagram\n",
    "  - Interaction overview diagram: https://en.wikipedia.org/wiki/Interaction_overview_diagram\n",
    "  - Sequence diagram: https://en.wikipedia.org/wiki/Sequence_diagram\n",
    "  - State diagram: https://en.wikipedia.org/wiki/UML_state_machine\n",
    "  - Timing diagram: https://en.wikipedia.org/wiki/Timing_diagram_(Unified_Modeling_Language)\n",
    "  - Use case diagram: https://en.wikipedia.org/wiki/Use_case_diagram\n",
    "\n",
    "### Some UML Examples:\n",
    "\n",
    "**Class Diagram**\n",
    "![Class Diagram](img/ClassDiagram.png)\n",
    "\n",
    "**Sequence Diagram**\n",
    "![Sequence Diagram](img/SequenceDiagram.png)\n",
    "\n",
    "**UseCase Diagram**\n",
    "![UseCase Diagram](img/UseCaseDiagram.png)"
   ]
  },
  {
   "cell_type": "markdown",
   "metadata": {},
   "source": [
    "### Pseudocode\n",
    "\n",
    "See: https://en.wikipedia.org/wiki/Pseudocode\n",
    "\n",
    "```JavaScript\n",
    "// See: https://en.wikipedia.org/wiki/Bubble_sort#Pseudocode_implementation\n",
    "procedure bubbleSort(A : list of sortable items)\n",
    "    n := length(A)\n",
    "    repeat\n",
    "        swapped := false\n",
    "        for i := 1 to n-1 inclusive do\n",
    "            /* if this pair is out of order */\n",
    "            if A[i-1] > A[i] then\n",
    "                /* swap them and remember something changed */\n",
    "                swap(A[i-1], A[i])\n",
    "                swapped := true\n",
    "            end if\n",
    "        end for\n",
    "    until not swapped\n",
    "end procedure\n",
    "```"
   ]
  },
  {
   "cell_type": "markdown",
   "metadata": {},
   "source": [
    "## Online Design Tools\n",
    "\n",
    "- **Figma** online collaborative interface design tool: https://www.figma.com\n",
    "- **Lucidchart** online  flowchart and diagram tool: https://www.lucidchart.com/pages\n",
    "- **Moqups** online wireframe, mockup, diagram and prototype tool: https://moqups.com\n",
    "        \n",
    "### Figma Example\n",
    "![Figma](https://images.ctfassets.net/1khq4uysbvty/Zzp53JtBHxPbj3Y0JTRkg/71c23b0c389ddec51996035335c4de72/multiple-connections-with-component.gif?&w=736)\n",
    "\n",
    "### Lucidchart Example\n",
    "![Lucidchart](https://d2slcw3kip6qmk.cloudfront.net/marketing/pages/chart/consideration/mindmap/Mindmap-2.png)\n",
    "\n",
    "### Moqups Example\n",
    "![Moqups](https://landing.moqups.com/img/product-shots/moqups-wireframe-storyboard.png)\n"
   ]
  },
  {
   "cell_type": "markdown",
   "metadata": {},
   "source": [
    "## Live Code Sharing Tools\n",
    "\n",
    "- Live Code Share Editor Online https://liveweave.com\n",
    "- Visual Studio Code Live Share Extension Pack: https://marketplace.visualstudio.com/items?itemName=MS-vsliveshare.vsliveshare-pack"
   ]
  },
  {
   "cell_type": "markdown",
   "metadata": {},
   "source": [
    "## Lab\n",
    "\n",
    "- UI / UX Design Tutorial – Wireframe, Mockup & Design in Figma: https://www.youtube.com/watch?v=c9Wg6Cb_YlU\n",
    "- Imagine a business scenario that is of interest to you and try sketching out several design ideas with your own diagrams\n",
    "- Try using Figma, Lucidchart, Moqups, or any other drawing tools that you choose to do your art work\n",
    "- Class exercise: Set up Slack, Trello, and Google Docs to communicate with other students on your design work\n",
    "- Be prepared to explain your design ideas and diagrams with others in class"
   ]
  },
  {
   "cell_type": "markdown",
   "metadata": {},
   "source": [
    "## Homework\n",
    "\n",
    "- Read: https://medium.com/@WeAreMobile1st/the-benefits-of-teamwork-and-collaboration-in-software-development-a843cb7e8f73\n",
    "- Be prepared to present these topics in class"
   ]
  },
  {
   "cell_type": "markdown",
   "metadata": {},
   "source": [
    "## Learning Resources\n",
    "\n",
    "- **UML**: https://www.uml.org\n",
    "- **Slack**: https://slack.com/help/categories/200111606-Using-Slack\n",
    "- **GitHub**: https://docs.github.com/en\n",
    "- **Trello**: https://developer.atlassian.com/cloud/trello\n",
    "- **Kanban**: https://scrumorg-website-prod.s3.amazonaws.com/drupal/2018-02/2018%20Kanban%20Guide%20for%20Scrum%20Teams_0.pdf\n",
    "- **Scrum Primer**: https://scrumprimer.org\n",
    "- **Scrum Teams**: http://faculty.salisbury.edu/~xswang/Research/Papers/SERelated/scrum/s4026.pdf\n",
    "- **Jira**: https://www.atlassian.com/software/jira\n",
    "- **Figma**: https://www.figma.com\n",
    "- **Lucidchart**: https://www.lucidchart.com/pages\n",
    "- **Moqups**: https://moqups.com\n",
    "- **Google Docs**: https://support.google.com/docs/answer/7068618?co=GENIE.Platform%3DDesktop&hl=en"
   ]
  },
  {
   "cell_type": "code",
   "execution_count": null,
   "metadata": {},
   "outputs": [],
   "source": []
  }
 ],
 "metadata": {
  "kernelspec": {
   "display_name": "Python 3",
   "language": "python",
   "name": "python3"
  },
  "language_info": {
   "codemirror_mode": {
    "name": "ipython",
    "version": 3
   },
   "file_extension": ".py",
   "mimetype": "text/x-python",
   "name": "python",
   "nbconvert_exporter": "python",
   "pygments_lexer": "ipython3",
   "version": "3.8.5"
  }
 },
 "nbformat": 4,
 "nbformat_minor": 4
}
