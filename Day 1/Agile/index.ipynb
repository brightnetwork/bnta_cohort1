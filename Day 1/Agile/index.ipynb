{
 "cells": [
  {
   "cell_type": "markdown",
   "metadata": {},
   "source": [
    "# Agile Methodology (60 Minute)\n",
    "\n",
    "- **Agile Manifesto** http://www.agilemanifesto.org\n",
    "- **The Agile Coach** https://www.atlassian.com/agile\n",
    "- **Agile Methodology** https://www.guru99.com/agile-scrum-extreme-testing.html\n",
    "- **Scrum** and **Kanban** are two of the most popular Agile methodologies:\n",
    "  - **Scrum** https://www.scrumguides.org\n",
    "  - **Kanban** https://activlets.readthedocs.io/en/stable\n",
    "- **Tools** available to help manage Agile methodologies:\n",
    "  - **Trello** https://trello.com\n",
    "  - **Jira** https://www.atlassian.com/software/jira\n",
    "  - Many others"
   ]
  },
  {
   "cell_type": "markdown",
   "metadata": {},
   "source": [
    "## Topics\n",
    "\n",
    "- 4 Agile Core Values\n",
    "- 12 Agile Principles\n",
    "- 4 Agile Ceremonies\n",
    "- 3 Scrum Roles\n",
    "- Cross-Functional Teams\n",
    "- Stories and Tasks\n",
    "- Sprints\n",
    "- Standups\n",
    "- Implementations\n",
    "  - Scrum\n",
    "  - Kanban\n",
    "- Tools\n",
    "  - Jira\n",
    "  - Trello"
   ]
  },
  {
   "cell_type": "markdown",
   "metadata": {},
   "source": [
    "## Pre-Read Assignment\n",
    "\n",
    "- Read: https://en.wikipedia.org/wiki/Agile_software_development#The_Agile_Manifesto\n",
    "- View - Intro to Scrum in Under 10 Minutes: https://www.youtube.com/watch?v=XU0llRltyFM\n",
    "- View - Agile Project Management with Kanban: https://www.youtube.com/watch?v=CD0y-aU1sXo\n",
    "- Be prepared to provide a brief in-class presentation on any of the following terms:\n",
    "  - SDLC (software development life cycle)\n",
    "  - Agile development frameworks: Scrum vs Kanban\n",
    "  - Iterative, incremental, and evolutionary development for early delivery and evaluation\n",
    "  - Efficient and face-to-face communication and whiteboarding\n",
    "  - Sprints (one to four week efforts)\n",
    "  - Adaptive vs. predictive and Agile vs. waterfall\n",
    "  - Discovering requirements and developing solutions through the collaborative effort\n",
    "  - Minimize the amount of up-front planning and design\n",
    "  - Self-organizing cross-functional teams\n",
    "  - Planning, analysis, design, coding, unit testing, and acceptance testing\n",
    "  - Adaptive planning, evolutionary development, early delivery, and continual improvement\n",
    "  - Flexible response to changing plans\n",
    "  - Daily stand-up (a.k.a. scrum in Scrum Framework)\n",
    "  - Leverage CI/CD automatedcontinuous integration and continuous delivery\n",
    "  - Scrum vs Kanban"
   ]
  },
  {
   "cell_type": "markdown",
   "metadata": {},
   "source": [
    "See: https://commons.wikimedia.org/wiki/File:Waterfall_Vs_Agile_m,method.png\n",
    "<img src=\"https://upload.wikimedia.org/wikipedia/commons/c/c7/Waterfall_Vs_Agile_m%2Cmethod.png\">"
   ]
  },
  {
   "cell_type": "markdown",
   "metadata": {},
   "source": [
    "## 4 Agile Core Values\n",
    "\n",
    "- Individuals and interactions over processes and tools\n",
    "- Working software over comprehensive documentation\n",
    "- Customer collaboration over contract negotiation\n",
    "- Responding to change over following a plan"
   ]
  },
  {
   "cell_type": "markdown",
   "metadata": {},
   "source": [
    "## 12 Agile Principles\n",
    "\n",
    "See: http://agilemanifesto.org/principles.html\n",
    "\n",
    "1. Customer satisfaction by early and continuous delivery of valuable software.\n",
    "2. Welcome changing requirements, even in late development.\n",
    "3. Deliver working software frequently (weeks rather than months)\n",
    "4. Close, daily cooperation between business people and developers\n",
    "5. Projects are built around motivated individuals, who should be trusted\n",
    "6. Face-to-face conversation is the best form of communication (co-location)\n",
    "7. Working software is the primary measure of progress\n",
    "8. Sustainable development, able to maintain a constant pace\n",
    "9. Continuous attention to technical excellence and good design\n",
    "10. Simplicity—the art of maximizing the amount of work not done—is essential\n",
    "11. Best architectures, requirements, and designs emerge from self-organizing teams\n",
    "12. Regularly, the team reflects on how to become more effective, and adjusts accordingly"
   ]
  },
  {
   "cell_type": "markdown",
   "metadata": {},
   "source": [
    "## 4 Scrum Ceremonies\n",
    "\n",
    "- Sprint Planning\n",
    "- Daily Scrum: tracking daily progress\n",
    "- Sprint Review\n",
    "- Sprint Retrospective"
   ]
  },
  {
   "cell_type": "markdown",
   "metadata": {},
   "source": [
    "## 3 Scrum Roles\n",
    "\n",
    "- Scrum Master: responsible for setting up the team, sprint meeting and removes obstacles\n",
    "- Product Owne: manages product backlog and responsible for delivery to customer\n",
    "- Scrum Team (cross functional team of self-organizing developers working on sprints)"
   ]
  },
  {
   "cell_type": "markdown",
   "metadata": {},
   "source": [
    "## Cross-Functional Teams\n",
    "\n",
    "- \"Developer\" is the only job title\n",
    "- Team is accountable as a group"
   ]
  },
  {
   "cell_type": "markdown",
   "metadata": {},
   "source": [
    "## Stories and Tasks\n",
    "\n",
    "- A Story represents a functional requirement that a user needs for a specific business purpose\n",
    "- Tasks define how to implement the functionality required for a Story\n",
    "- Agile team works in iterations to deliver Stories\n",
    "- Stories are estimated in points which are each about 8 hours\n",
    "- Tasks are estimated in hours, which is 2 to 12 hours\n",
    "- The team decides when a Story is completed\n",
    "- Acceptance criteria determines if the product owner accepts result"
   ]
  },
  {
   "cell_type": "markdown",
   "metadata": {},
   "source": [
    "## Agile Concepts\n",
    "\n",
    "- Resources\n",
    "- Product backlog\n",
    "- Sprint backlog\n",
    "- Sprint (2 to 30 day iteration)\n",
    "- Daily scrum (standup meeting)\n",
    "- Prototype\n",
    "- User Stories\n",
    "- Product backlog (Story wishlist)\n",
    "- Burndown chart (track project progress based on sprint velocity)\n",
    "- Defining \"Done\""
   ]
  },
  {
   "cell_type": "markdown",
   "metadata": {},
   "source": [
    "## Tools\n",
    "\n",
    "- JIRA\n",
    "- Trello\n",
    "- etc."
   ]
  },
  {
   "source": [
    "Cynefin framework\n",
    "===\n",
    "\n",
    "<img src=\"https://upload.wikimedia.org/wikipedia/commons/7/76/Cynefin_framework%2C_February_2011_%282%29.jpeg\">"
   ],
   "cell_type": "markdown",
   "metadata": {}
  },
  {
   "cell_type": "markdown",
   "metadata": {},
   "source": [
    "# Scrum\n",
    "\n",
    "- **Wikipedia - Scrum** https://en.wikipedia.org/wiki/Scrum_(software_development)\n",
    "- **What is Scrum?** https://www.atlassian.com/agile/scrum\n",
    "- **The Scrum Guide** https://scrumguides.org/docs/scrumguide/v2020/2020-Scrum-Guide-US.pdf\n",
    "- **The 2020 Scrum Guide** https://www.scrumguides.org/scrum-guide.html\n",
    "\n",
    "## Scrum Values\n",
    "\n",
    "-  Commitment: Team members must commit to achieving team goals in each sprint\n",
    "-  Courage: Team members must have the courage to work through conflict and challenges\n",
    "-  Focus: Team members must focus only on their team goals and sprint backlog (no other work)\n",
    "-  Openness: Team members must be honest about progress and challenges\n",
    "-  Respect: Team members must respect each other to be technically capable and committed\n",
    "\n",
    "## Scrum Concepts\n",
    "\n",
    "- Sprints (timeboxed development iterations)\n",
    "- Product backlog describes work to be done ( features, bug fixes, non-functional requirements)\n",
    "- Sprint backlog\n",
    "- Sprint burndown chart\n",
    "- Release burn-up chart\n",
    "- Transparency\n",
    "- Stand-up (15-minute daily scrum team meetings forr progress tracking and feedback)\n",
    "  - What did I complete yesterday?\n",
    "  - What do I plan to complete today?\n",
    "  - Do I see any potential impediments?"
   ]
  },
  {
   "cell_type": "markdown",
   "metadata": {},
   "source": [
    "See: https://en.wikipedia.org/wiki/Scrum_(software_development)\n",
    "<img src=\"https://upload.wikimedia.org/wikipedia/commons/d/df/Scrum_Framework.png\">\n",
    "<img src=\"https://upload.wikimedia.org/wikipedia/commons/5/58/Scrum_process.svg\">"
   ]
  },
  {
   "cell_type": "markdown",
   "metadata": {},
   "source": [
    "# Kanban\n",
    "\n",
    "- See: https://en.wikipedia.org/wiki/Kanban_(development)\n",
    "- See: https://www.atlassian.com/agile/kanban\n",
    "- Combining Scrum And Kanban: The Best Of Both Worlds: https://hygger.io/blog/combining-scrum-and-kanban-the-best-of-both-worlds\n",
    "- Kanban board visual project management system\n",
    "- Visualizes features and Stories for team\n",
    "- WIP (work and limit work in progress)\n",
    "\n",
    "- Kanban metrics\n",
    "  - Team velocity\n",
    "  - Lead and Cycle time\n",
    "  - Actionable Agile metrics\n",
    "  \n",
    "### Kanban Board\n",
    "\n",
    "- Visualizes task progress from request to completion (work in progress)\n",
    "- Recognize bottlenecks and roadblocks to reallocate cross-functional team members\n",
    "- Collect progress metrics\n",
    "- Split into columns (swimlanes) that represent activities workflow\n",
    "  - To Do (Requested)\n",
    "  - In progress\n",
    "  - Done\n",
    "- Each new task in workflow is placed on the **Kanban Card**\n",
    "- Kanban Board Introduction: https://hygger.io/blog/combining-scrum-and-kanban-the-best-of-both-worlds/#quick-kanban-intro"
   ]
  },
  {
   "cell_type": "markdown",
   "metadata": {},
   "source": [
    "See: https://commons.wikimedia.org/wiki/File:Sample_Kanban_Board.png\n",
    "<img src=\"https://upload.wikimedia.org/wikipedia/commons/c/c2/Sample_Kanban_Board.png\">"
   ]
  },
  {
   "cell_type": "markdown",
   "metadata": {},
   "source": [
    "## Jira\n",
    "\n",
    "- Web-based issue tracking and project management application\n",
    "- **Introduction to Jira & Agile** https://www.youtube.com/watch?v=TsG3OWTDAFY\n",
    "- **Wikipedia - Jira** https://en.wikipedia.org/wiki/Jira_(software)\n",
    "- **Learn Scrum with Jira** https://www.atlassian.com/agile/tutorials/how-to-do-scrum-with-jira-software"
   ]
  },
  {
   "cell_type": "markdown",
   "metadata": {},
   "source": [
    "## Trello\n",
    "\n",
    "-  Web-based Kanban-style list-making application\n",
    "- **Getting Started With Trello** https://www.youtube.com/watch?v=OUwhjnooyF8\n",
    "- **Wikipedia - Trello** https://en.wikipedia.org/wiki/Trello"
   ]
  },
  {
   "cell_type": "markdown",
   "metadata": {},
   "source": [
    "## Discussion\n",
    "\n",
    "- Compare and contrast Scrum and Kanban\n",
    "- What is the purpose and frequency of Stand-up meetings?\n",
    "- What is a sprint?\n",
    "- What is continuous delivery?\n",
    "- Compare and contrast product owner, scrum master, and development team member"
   ]
  },
  {
   "cell_type": "markdown",
   "metadata": {},
   "source": [
    "## Lab\n",
    "\n",
    "- Work through the article at: https://www.atlassian.com/agile/scrum\n",
    "- Discuss in class"
   ]
  },
  {
   "cell_type": "markdown",
   "metadata": {},
   "source": [
    "## Homework\n",
    "\n",
    "- Read https://www.atlassian.com/agile/scrum\n",
    "- Read https://www.atlassian.com/agile/kanban\n",
    "- Be prepared to present these topics in class"
   ]
  },
  {
   "cell_type": "markdown",
   "metadata": {},
   "source": [
    "## Learning Resources\n",
    "\n",
    "- **Agile Practice Guide** https://www.agilealliance.org/wp-content/uploads/2017/09/AgilePracticeGuide.pdf\n",
    "- **Agile 101** https://www.agilealliance.org/agile101\n",
    "- **Agile (Atlassian)** https://www.atlassian.com/agile\n",
    "- **The Agile Coach** https://www.atlassian.com/agile\n",
    "- **Kanban vs. scrum** https://www.atlassian.com/agile/kanban/kanban-vs-scrum\n",
    "- **Agile vs Scrum vs Waterfall vs Kanban** https://www.smartsheet.com/agile-vs-scrum-vs-waterfall-vs-kanban\n",
    "- **Scrum (Atlassian)** https://www.atlassian.com/agile/scrum\n",
    "- **Kanban (Atlassian)** https://www.atlassian.com/agile/kanban\n",
    "- **Scrum Guide** https://scrumguides.org/docs/scrumguide/v2020/2020-Scrum-Guide-US.pdf\n",
    "- **Kanban Guide** https://kanbanguides.org/html-kanban-guide"
   ]
  },
  {
   "cell_type": "code",
   "execution_count": null,
   "metadata": {},
   "outputs": [],
   "source": []
  }
 ],
 "metadata": {
  "kernelspec": {
   "display_name": "Python 3",
   "language": "python",
   "name": "python3"
  },
  "language_info": {
   "codemirror_mode": {
    "name": "ipython",
    "version": 3
   },
   "file_extension": ".py",
   "mimetype": "text/x-python",
   "name": "python",
   "nbconvert_exporter": "python",
   "pygments_lexer": "ipython3",
   "version": "3.8.5"
  }
 },
 "nbformat": 4,
 "nbformat_minor": 4
}