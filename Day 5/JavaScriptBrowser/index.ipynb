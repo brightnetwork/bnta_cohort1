{
 "cells": [
  {
   "cell_type": "markdown",
   "metadata": {},
   "source": [
    "# JavaScript (Browser) (1 Day)\n",
    "\n",
    "**NOTE:** JavaScript is a very large topic. Later in this course, we will take a closer look at the JavaScript language itself, and we will also see how it can be used in Node.js (outside of the Web browser). However, in this one-day session, we will learn just a few things about using JavaScript within the Web browser. For now, we will focus on how JavaScript can add behavioral functionality to a page rendered in a browser and make it come alive.\n",
    "\n",
    "* **JavaScript first released** in 1996 as part of the Netscape Navigator Web browser\n",
    "* **Wikipedia: Brendan Eich** https://en.wikipedia.org/wiki/Brendan_Eich\n",
    "* **Wikipedia: JavaScript** https://en.wikipedia.org/wiki/JavaScript\n",
    "* **Wikipedia: ECMAScript** https://en.wikipedia.org/wiki/ECMAScript\n",
    "* **MDN: JavaScript** https://developer.mozilla.org/en-US/docs/Web/JavaScript\n",
    "* **JavaScript Tutorial** https://javascript.info"
   ]
  },
  {
   "cell_type": "markdown",
   "metadata": {},
   "source": [
    "## Free Code Camp - Basic JavaScript\n",
    "\n",
    "- Free Code Camp -> JavaScript Algorithms and Data Structures Certification (300 hours) -> Basic JavaScript: https://www.freecodecamp.org/learn    "
   ]
  },
  {
   "cell_type": "markdown",
   "metadata": {},
   "source": [
    "## Mozilla Development Network Resources\n",
    "\n",
    "- MDN: JavaScript First Steps: https://developer.mozilla.org/en-US/docs/Learn/JavaScript/First_steps\n",
    "- MDN: JavaScript building blocks: https://developer.mozilla.org/en-US/docs/Learn/JavaScript/Building_blocks\n",
    "- MDN: JavaScript basics: https://developer.mozilla.org/en-US/docs/Learn/Getting_started_with_the_web/JavaScript_basics"
   ]
  },
  {
   "cell_type": "markdown",
   "metadata": {},
   "source": [
    "## Babylon.js Animation Example\n",
    "\n",
    "- **URL**: https://playground.babylonjs.com/#0K8EYN#0\n",
    "- **Tutorials**: https://doc.babylonjs.com/start\n",
    "- **See next cell for a running example...**"
   ]
  },
  {
   "cell_type": "code",
   "execution_count": 1,
   "metadata": {},
   "outputs": [
    {
     "data": {
      "text/html": [
       "<h3>Babylon.js Animation Example</h3>\n",
       "<p>- Hamburger menu allows you to create, save, download, and go to other code examples</p>\n",
       "<p>- Try dragging your mouse on the animation below to see it from any angle</p>\n",
       "<br>\n",
       "<iframe height=500 width=900 src=\"https://playground.babylonjs.com/#0K8EYN#0\" title=\"Babylon.js Animation Example\"></iframe>\n"
      ],
      "text/plain": [
       "<IPython.core.display.HTML object>"
      ]
     },
     "metadata": {},
     "output_type": "display_data"
    }
   ],
   "source": [
    "%%html\n",
    "<h3>Babylon.js Animation Example</h3>\n",
    "<p>- Hamburger menu allows you to create, save, download, and go to other code examples</p>\n",
    "<p>- Try dragging your mouse on the animation below to see it from any angle</p>\n",
    "<br>\n",
    "<iframe height=500 width=900 src=\"https://playground.babylonjs.com/#0K8EYN#0\" title=\"Babylon.js Animation Example\"></iframe>"
   ]
  },
  {
   "cell_type": "markdown",
   "metadata": {},
   "source": [
    "## JavaScript Web APIs\n",
    "\n",
    "* **Google: Web APIs** https://developer.chrome.com/apps/api_other\n",
    "* **MDN: Web APIs Intro** https://developer.mozilla.org/en-US/docs/Learn/JavaScript/Client-side_web_APIs/Introduction\n",
    "* **MDN: Web APIs List** https://developer.mozilla.org/en-US/docs/Web/API"
   ]
  },
  {
   "cell_type": "markdown",
   "metadata": {},
   "source": [
    "# Free Online University JavaScript Courses\n",
    "\n",
    "* [HTML, CSS, Javascript for Web Dev (Johns Hopkins)](https://www.coursera.org/learn/html-css-javascript-for-web-developers)\n",
    "* [Web Design for Everybody: Basics Web Dev Coding (University Michigan)](https://www.coursera.org/specializations/web-design)\n",
    "* [Programming Foundations with JavaScript, HTML and CSS (Duke)](https://www.coursera.org/learn/duke-programming-web)\n",
    "* More: https://www.coursera.org/courses?query=javascript"
   ]
  },
  {
   "cell_type": "markdown",
   "metadata": {},
   "source": [
    "## Online Code Challenges\n",
    "\n",
    "* [exercism.io](https://exercism.io/my/tracks)\n",
    "* [hackerrank.com](https://www.hackerrank.com)\n",
    "* [freecodecamp.org (project euler)](https://www.freecodecamp.org/learn/coding-interview-prep/project-euler)\n",
    "* [leetcode.com](https://leetcode.com)"
   ]
  },
  {
   "cell_type": "markdown",
   "metadata": {},
   "source": [
    "## Pre-Read Assignment\n",
    "\n",
    "- Read: https://en.wikipedia.org/wiki/JavaScript\n",
    "- Be prepared for in-class discussion on the JavaScript topics:\n",
    "  1. What is ECMAScript?\n",
    "  2. What are Browser F12 Tools used for?\n",
    "  3. What is the DOM?\n",
    "  4. What is AJAX?\n",
    "  5. What is Node.js?\n",
    "  6. How is JavaScript related to Java?\n",
    "  7. What is an imperative language?\n",
    "  8. What is weakly typed language?\n",
    "  9. What is dynamic language?\n",
    "  10. What is object-orientation language?\n",
    "  11. What is functional language?\n",
    "  12. What does prototype-based mean\n",
    "  13. What does cross-site vulnerability mean?\n",
    "  14. What is JSON?\n",
    "  15. What is WebAssembly?\n"
   ]
  },
  {
   "cell_type": "markdown",
   "metadata": {},
   "source": [
    "## Daily Schedule\n",
    "\n",
    "### 08:00AM-08:30AM (30 Min) Stand-Up and Teach-Back\n",
    "\n",
    "Search for web articles, tutorials, and documentation for answers to the following questions and then discuss:\n",
    "\n",
    "1. What is a \"dynamic\" vs \"static\" language?\n",
    "2. What is the ```document``` object used for and what is the **DOM**?\n",
    "3. How does **JavaScript** syntax compare to other programming languages?\n",
    "4. What can **JavaScript** do in a Web page?\n",
    "5. How does **JavaScript** included in a Web page?\n",
    "6. What is the ```XmlHttpRequest``` object used for and what is **AJAX**?\n",
    "7. How does **JavaScript** relate to **ECMAScript**?\n",
    "8. How does **JavaScript** relate to **Java**?\n",
    "9. What is an \"event handler\"?\n",
    "10. What does \"asynchronous\" mean and how does **JavaScript** make use of it?\n",
    "11. What are the names of some popular **JavaScript** client libraries or frameworks?\n",
    "12. What does \"object-oriented\" programming mean?\n",
    "13. How does **JavaScript** access and maniupate **HTML** elements in a Web page?\n",
    "14. What is a \"comment\"?\n",
    "15. What is a \"variable\"?\n",
    "16. What is a \"function\"?\n",
    "17. What is an \"expression\"?\n",
    "18. What is a \"statement\"?\n",
    "19. What does the ```null``` value represent?\n",
    "20. What good **JavaScript** tutorials can you find?\n",
    "\n",
    "### 08:30AM-10:00AM (90 Min) Lectures and Demos\n",
    "\n",
    "1. Review [Foundation Program 2 Hour JavaScript](../FoundationProgram/2HrJavaScript.ipynb)\n",
    "3. Explore https://websitesetup.org/javascript-cheat-sheet\n",
    "4. Explore https://javascript.info\n",
    "5. Go through the **Lecture and Demos** section that appears later in this document\n",
    "\n",
    "### 10:00AM-10:30AM (30 Min) Q&A\n",
    "\n",
    "- Students\n",
    "  - Students ask and answer their own questions as independently as possible\n",
    "  - Students actively research answers to other student's questions in real time if possible\n",
    "  - Students actively participate in dialog as much as possible\n",
    "- Instructor\n",
    "  - Instructor promotes exploration of concepts with thought provoking questions\n",
    "  - Instructor provides active guidance when necessary, but mostly acts as a facilitator\n",
    "  - Instructor actively corrects misunderstandings as required\n",
    "\n",
    "### 10:30AM-10:45AM (15 Min) Break\n",
    "- Instructor and students must return on time to avoid falling behind in schedule.\n",
    "\n",
    "### 10:45AM-12:00PM (75 Min) Lab\n",
    "\n",
    "**NOTE**: As usual, there will be topics that we did not discuss in lecture that you will most likely want to make use of in this lab. Be prepared to google search as necessary, or ask questions in class during the lab to resolve any issues. At this point in the class, it is not required that you use any CSS, however, you may use it if you like. You may also find that you need a bit of JavaScript here and there, such as in a form (handling the submit button) and canvas (calling drawing functions). This JavaScript code will be very simple, and you can easily find and copy/paste code you find on the web without the need of deep understanding. As is the case in real work world, the key is to see how resourceful you can become in resolving issues as they come up.\n",
    "\n",
    "1. http://domenlightenment.com\n",
    "2. https://www.jshero.net/en/success.html\n",
    "3. https://edabit.com/tutorial/javascript\n",
    "4. https://exercism.io/tracks/javascript/exercises\n",
    "5. https://eloquentjavascript.net\n",
    "6. https://eloquentjavascript.net/code\n",
    "7. Many others are available\n",
    "\n",
    "### 12:00PM-01:00PM (60 Min) Lunch\n",
    "\n",
    "- Instructor and students must return on time to avoid falling behind in schedule.\n",
    "\n",
    "### 01:00PM-02:45PM (105 Min) Lab\n",
    "\n",
    "1. Go through the web development tutorials on MDN: https://developer.mozilla.org/en-US/docs/Learn\n",
    "2. Search for intersting web page examples that you would like to experiment with\n",
    "2. Continue building your HTML portfolio (on https://codepen.io, or similar)\n",
    "\n",
    "### 02:45PM-03:00PM (15 Min) Break\n",
    "\n",
    "### 03:00PM-03:30PM (30 Min) Lab Discussion and Teach-Back\n",
    "\n",
    "- Ask questions in class\n",
    "- Present your code in class\n",
    "\n",
    "### 03:30PM-04:00PM (30 Min) Homework Assignment\n",
    "\n",
    "- See: https://www.freecodecamp.org/learn/javascript-algorithms-and-data-structures/basic-javascript\n",
    "- See: https://www.freecodecamp.org/news/the-complete-javascript-handbook-f26b2c71719c\n",
    "- See: https://www.freecodecamp.org/news/best-javascript-tutorial\n",
    "- Make notes on your questions and discoveries as you read the content\n",
    "- Be prepared to present these questions and discoveries in class the next day"
   ]
  },
  {
   "cell_type": "markdown",
   "metadata": {},
   "source": [
    "## Event Handeling\n",
    "\n",
    "There are many events that you can handle in JavaScript:\n",
    "\n",
    "See: https://developer.mozilla.org/en-US/docs/Web/Events\n",
    "\n",
    "- ```load``` - https://developer.mozilla.org/en-US/docs/Web/API/Window/load_event\n",
    "- ```focus``` - https://developer.mozilla.org/en-US/docs/Web/API/Element/focus_event\n",
    "- ```blur``` - https://developer.mozilla.org/en-US/docs/Web/API/Element/blur_event\n",
    "- ```click``` - https://developer.mozilla.org/en-US/docs/Web/API/Element/click_event\n",
    "- ```mousemove``` - https://developer.mozilla.org/en-US/docs/Web/API/Element/mousemove_event\n",
    "- ```drag``` - https://developer.mozilla.org/en-US/docs/Web/API/Document/drag_event\n",
    "- ```drag start``` - https://developer.mozilla.org/en-US/docs/Web/API/Document/dragstart_event\n",
    "- ```dragenter``` - https://developer.mozilla.org/en-US/docs/Web/API/Document/dragenter_event\n",
    "- ```dragover``` - https://developer.mozilla.org/en-US/docs/Web/API/Document/dragover_event\n",
    "- ```dragleave``` - https://developer.mozilla.org/en-US/docs/Web/API/Document/dragleave_event\n",
    "- ```dragend``` - https://developer.mozilla.org/en-US/docs/Web/API/Document/dragend_event\n",
    "- ```drop``` - https://developer.mozilla.org/en-US/docs/Web/API/Document/drop_event\n",
    "- ```keydown``` - https://developer.mozilla.org/en-US/docs/Web/API/Document/keydown_event\n",
    "- ```keypress``` - https://developer.mozilla.org/en-US/docs/Web/API/Document/keypress_event\n",
    "- ```keyup``` - https://developer.mozilla.org/en-US/docs/Web/API/Document/keyup_event\n",
    "- ```submit``` - https://developer.mozilla.org/en-US/docs/Web/API/HTMLFormElement/submit_event\n",
    "- ```cut``` - https://developer.mozilla.org/en-US/docs/Web/API/Element/cut_event\n",
    "- ```copy``` - https://developer.mozilla.org/en-US/docs/Web/API/Element/copy_event\n",
    "- ```paste``` - https://developer.mozilla.org/en-US/docs/Web/API/Element/paste_event\n",
    "- and many more..."
   ]
  },
  {
   "cell_type": "markdown",
   "metadata": {},
   "source": [
    "## JavaScript and Web API Topics\n",
    "\n",
    "Review the following links:\n",
    "\n",
    "- DOM (Document Object Model): https://developer.mozilla.org/en-US/docs/Web/API/Document_Object_Model/Introduction\n",
    "- XMLHttpRequest: https://developer.mozilla.org/en-US/docs/Web/API/XMLHttpRequest\n",
    "- Media: https://developer.mozilla.org/en-US/docs/Web/Media\n",
    "- Web Audio: https://developer.mozilla.org/en-US/docs/Web/API/Web_Audio_API\n",
    "- Canvas: https://developer.mozilla.org/en-US/docs/Web/API/Canvas_API/Tutorial\n",
    "- WebGL by example: https://developer.mozilla.org/en-US/docs/Web/API/WebGL_API/By_example\n",
    "- Basic 2D WebGL animation example: https://developer.mozilla.org/en-US/docs/Web/API/WebGL_API/Basic_2D_animation_example\n",
    "- Geolocation: https://www.html5rocks.com/en/tutorials/geolocation/trip_meter\n",
    "- Storage: https://developer.mozilla.org/en-US/docs/Web/API/Storage\n",
    "- Notifications: https://developer.mozilla.org/en-US/docs/Web/API/Notifications_API/Using_the_Notifications_API\n",
    "- IndexedDB: https://developer.mozilla.org/en-US/docs/Web/API/IndexedDB_API\n",
    "- Web Workers: https://developer.mozilla.org/en-US/docs/Web/API/Web_Workers_API/Using_web_workers\n",
    "- Web Sockets: https://developer.mozilla.org/en-US/docs/Web/API/WebSockets_API\n",
    "- Drag and Drop: https://developer.mozilla.org/en-US/docs/Web/API/HTML_Drag_and_Drop_API\n",
    "- Performance Timing: https://developer.mozilla.org/en-US/docs/Web/API/Performance"
   ]
  },
  {
   "cell_type": "markdown",
   "metadata": {},
   "source": [
    "## Lecture and Demos (90 Minute - 08:30AM-10:00AM)\n",
    "\n",
    "**NOTE**: You can copy and paste these code examples into your own source code editor and save them in a file that ends in ```.html```. In many cases, you can view the result in your browser just by double clicking on the ```.html``` file directly in your file system. In some code examples, it may only work if you host the page on an actual web server. It is easiest for you to use a local development web server for this, rather deploying it to a remote production web server over the internet. A local web server can be run using Node.js. You can google that to see the details of how you can can do that. If you use Visual Studio Code, you can simply install the \"Go Live\" extension and run it directly from within the Visual Studio Code editor, so that you can then view it in your web browser at the localhost loop-back URL: http://127.0.0.1.            "
   ]
  },
  {
   "cell_type": "markdown",
   "metadata": {},
   "source": [
    "## JavaScript Language\n",
    "\n",
    "JavaScript is a huge topic. Here we will only explore the following basic topics. You may want to research and explore the web for your own learning resources and tutorials on further JavaScript topics.\n",
    "\n",
    "- Grammar and Types: https://developer.mozilla.org/en-US/docs/Web/JavaScript/Guide/Grammar_and_Types\n",
    "- Variables: https://developer.mozilla.org/en-US/docs/Learn/JavaScript/First_steps/Variables\n",
    "- Expressions and Operators: https://developer.mozilla.org/en-US/docs/Web/JavaScript/Guide/Expressions_and_Operators\n",
    "- Statements and Declarations: https://developer.mozilla.org/en-US/docs/Web/JavaScript/Reference/Statements\n",
    "- Numbers and Dates: https://developer.mozilla.org/en-US/docs/Web/JavaScript/Guide/Numbers_and_dates\n",
    "- Text Formatting: https://developer.mozilla.org/en-US/docs/Web/JavaScript/Guide/Text_formatting\n",
    "- Functions: https://developer.mozilla.org/en-US/docs/Web/JavaScript/Guide/Functions\n",
    "- Conditional Statements: https://developer.mozilla.org/en-US/docs/Web/JavaScript/Guide/Control_flow_and_error_handling#conditional_statements\n",
    "- Loops and Iteration: https://developer.mozilla.org/en-US/docs/Web/JavaScript/Guide/Loops_and_iteration\n",
    "- Introduction to Events: https://developer.mozilla.org/en-US/docs/Learn/JavaScript/Building_blocks/Events\n",
    "- Event Reference: https://developer.mozilla.org/en-US/docs/Web/Events\n",
    "- Working with Objects: https://developer.mozilla.org/en-US/docs/Web/JavaScript/Guide/Working_with_Objects\n",
    "- Using ```this``` for Object References: https://developer.mozilla.org/en-US/docs/Web/JavaScript/Guide/Working_with_Objects#using_this_for_object_references\n",
    "- Classes: https://developer.mozilla.org/en-US/docs/Web/JavaScript/Reference/Classes\n",
    "- Inheritance: https://developer.mozilla.org/en-US/docs/Web/JavaScript/Guide/Working_with_Objects#inheritance\n",
    "- Iterators and Generators: https://developer.mozilla.org/en-US/docs/Web/JavaScript/Guide/Iterators_and_generators\n",
    "- Using Promises: https://developer.mozilla.org/en-US/docs/Web/JavaScript/Guide/Using_promises\n",
    "- https://developer.mozilla.org/en-US/docs/Web/JavaScript"
   ]
  },
  {
   "cell_type": "markdown",
   "metadata": {},
   "source": [
    "**NOTE**: The following two examples are based on code samples found at w3schools.com. There are many such examples on thousands of similar web sites that you can use to start learning from by example. The best way to learn from these examples is to search for some interesting web page behavior and then copy the code. Then you can try iteratively modifying it various ways and then try running it to see the effects of your changes.\n",
    "\n",
    "Many web sites provide large numbers of simple code examples to start learning with, such as such:\n",
    "        \n",
    "- https://www.w3schools.com\n",
    "- https://www.tutorialspoint.com/index.htm\n",
    "- https://www.tutorialrepublic.com\n",
    "- https://www.programiz.com/javascript/examples\n",
    "- https://www.guru99.com/practical-code-examples-using-javascript.html\n",
    "- https://www.quackit.com/javascript/examples\n",
    "- And many more..."
   ]
  },
  {
   "cell_type": "markdown",
   "metadata": {},
   "source": [
    "## Try It Out\n",
    "\n",
    "See: https://jsbin.com/bijeyep/edit?html,output\n",
    "\n",
    "```html\n",
    "<!DOCTYPE HTML>\n",
    "<html>\n",
    "<head>\n",
    "<meta name=\"viewport\" content=\"width=device-width, initial-scale=1\">\n",
    "<style>\n",
    "body {\n",
    "  text-align: center;\n",
    "}\n",
    "p {\n",
    "  font-size: 50px;\n",
    "  margin-top: 0px;\n",
    "}\n",
    "</style>\n",
    "</head>\n",
    "<body>\n",
    "    <h1>New Year Count Down Timer</h1>\n",
    "    <p id=\"output\"></p>\n",
    "</body>\n",
    "    <script>\n",
    "        var currentFullYear = new Date().getFullYear();\n",
    "        var countDownDate = new Date(currentFullYear+1, 0,0,0,0,0).getTime(); // start of next year\n",
    "        var x = setInterval(function() {\n",
    "          var now = new Date().getTime();\n",
    "          var deltaTime = countDownDate - now; // delta time to start of next year\n",
    "          var days = Math.floor(deltaTime / (1000 * 60 * 60 * 24));\n",
    "          var hours = Math.floor((deltaTime % (1000 * 60 * 60 * 24)) / (1000 * 60 * 60));\n",
    "          var minutes = Math.floor((deltaTime % (1000 * 60 * 60)) / (1000 * 60));\n",
    "          var seconds = Math.floor((deltaTime % (1000 * 60)) / 1000);\n",
    "          document.getElementById(\"output\").innerHTML =\n",
    "            days + \" day, \" + hours + \" hr, \" + minutes + \" min, \" + seconds + \" sec\";\n",
    "          if (deltaTime < 0) {\n",
    "            clearInterval(x);\n",
    "            document.getElementById(\"output\").innerHTML = \"EXPIRED\";\n",
    "          }\n",
    "        }, 1000); // update every second\n",
    "    </script>\n",
    "</html>\n",
    "```"
   ]
  },
  {
   "cell_type": "markdown",
   "metadata": {},
   "source": [
    "## Try It Out\n",
    "\n",
    "Try this out on your own machine...\n",
    "\n",
    "```html\n",
    "<!DOCTYPE html>\n",
    "<html>\n",
    "<body>\n",
    "<button onclick=\"getCoordinates()\">Get Lat Long Coordinates</button>\n",
    "<div id=\"coords\"></div>\n",
    "<script>\n",
    "var coords = document.getElementById(\"coords\");\n",
    "function getCoordinates() {\n",
    "  if (navigator.geolocation) {\n",
    "    navigator.geolocation.getCurrentPosition(displayCoordinates);\n",
    "  } else { \n",
    "    coords.innerHTML = \"Geolocation not supported\";\n",
    "  }\n",
    "}\n",
    "function displayCoordinates(position) {\n",
    "  coords.innerHTML =\n",
    "    \"Latitude: \" + position.coords.latitude + \"<br>\" +\n",
    "    \"Longitude: \" + position.coords.longitude;\n",
    "}\n",
    "</script>\n",
    "</body>\n",
    "</html>\n",
    "```"
   ]
  },
  {
   "cell_type": "markdown",
   "metadata": {},
   "source": [
    "## Try It Out\n",
    "\n",
    "Try the many examples at:\n",
    "\n",
    "- https://www.w3schools.com/js/default.asp\n",
    "- https://javascript.info\n",
    "- https://www.tutorialspoint.com/javascript/index.htm\n",
    "- https://www.freecodecamp.org/news/best-javascript-tutorial"
   ]
  },
  {
   "cell_type": "markdown",
   "metadata": {},
   "source": [
    "## More Advanced Examples: Some Interesting Demos on the Web"
   ]
  },
  {
   "cell_type": "markdown",
   "metadata": {},
   "source": [
    "## Tic Tac Toe (HTML, CSS, JavaScript)\n",
    "\n",
    "See: https://codepen.io/marxcom/pen/LWQXRX (**NOTE**: to start the game you need to enter X or O when it starts)\n",
    "        "
   ]
  },
  {
   "cell_type": "code",
   "execution_count": 4,
   "metadata": {},
   "outputs": [
    {
     "data": {
      "text/html": [
       "\n",
       "<h1>Phaser</h1>\n",
       "<p>See: https://github.com/photonstorm/phaser</p>\n",
       "<iframe height=800 width=900 src=\"https://phaser.io/examples\" title=\"Phaser Examples\"></iframe>\n"
      ],
      "text/plain": [
       "<IPython.core.display.HTML object>"
      ]
     },
     "metadata": {},
     "output_type": "display_data"
    }
   ],
   "source": [
    "%%html\n",
    "\n",
    "<h1>Phaser</h1>\n",
    "<p>See: https://github.com/photonstorm/phaser</p>\n",
    "<iframe height=800 width=900 src=\"https://phaser.io/examples\" title=\"Phaser Examples\"></iframe>"
   ]
  },
  {
   "cell_type": "code",
   "execution_count": 2,
   "metadata": {},
   "outputs": [
    {
     "data": {
      "text/html": [
       "\n",
       "<h1>p5js</h1>\n",
       "<p>https://p5js.org/learn</p>\n",
       "<p>https://editor.p5js.org</p>\n",
       "<p>click run button</p>\n",
       "<iframe width=\"900\" height=\"700\" src=\"https://editor.p5js.org/p5/sketches/Hello_P5:_flocking\"></iframe>\n"
      ],
      "text/plain": [
       "<IPython.core.display.HTML object>"
      ]
     },
     "metadata": {},
     "output_type": "display_data"
    }
   ],
   "source": [
    "%%html\n",
    "\n",
    "<h1>p5js</h1>\n",
    "<p>https://p5js.org/learn</p>\n",
    "<p>https://editor.p5js.org</p>\n",
    "<p>click run button</p>\n",
    "<iframe width=\"900\" height=\"700\" src=\"https://editor.p5js.org/p5/sketches/Hello_P5:_flocking\"></iframe>\n"
   ]
  },
  {
   "cell_type": "code",
   "execution_count": 3,
   "metadata": {},
   "outputs": [
    {
     "data": {
      "text/html": [
       "\n",
       "<h1>Three.js</h1>\n",
       "<p>https://threejs.org/examples</p>\n",
       "<iframe height=800 width=900 src=\"https://threejs.org/examples/#webgl_camera\" title=\"Threejs.org Examples\"></iframe>\n"
      ],
      "text/plain": [
       "<IPython.core.display.HTML object>"
      ]
     },
     "metadata": {},
     "output_type": "display_data"
    }
   ],
   "source": [
    "%%html\n",
    "\n",
    "<h1>Three.js</h1>\n",
    "<p>https://threejs.org/examples</p>\n",
    "<iframe height=800 width=900 src=\"https://threejs.org/examples/#webgl_camera\" title=\"Threejs.org Examples\"></iframe>\n"
   ]
  },
  {
   "cell_type": "markdown",
   "metadata": {},
   "source": [
    "### Web APIs\n",
    "See: https://developer.mozilla.org/en-US/docs/Web/API\n",
    "\n",
    "* DOM API\n",
    "    - [DOM Docs](https://developer.mozilla.org/en-US/docs/Web/API/Document_Object_Model)\n",
    "    - [DOM Enlightenment](http://domenlightenment.com)\n",
    "\n",
    "* AJAX APIs\n",
    "    - [AJAX](https://developer.mozilla.org/en-US/docs/Web/Guide/AJAX)\n",
    "    - [XMLHttpRequest](https://developer.mozilla.org/en-US/docs/Web/API/XMLHttpRequest)\n",
    "    - [Fetch](https://developer.mozilla.org/en-US/docs/Web/API/Fetch_API)\n",
    "    - [Axios](https://www.npmjs.com/package/axios)\n",
    "\n",
    "* Other Web APIs\n",
    "\n",
    "    - [Gamepad API](https://developer.mozilla.org/en-US/docs/Web/API/Gamepad_API)\n",
    "    - [Geolocation API](https://developer.mozilla.org/en-US/docs/Web/API/Geolocation_API)\n",
    "    - [Drag and Drop API](https://developer.mozilla.org/en-US/docs/Web/API)\n",
    "    - [High Resolution Time](https://developer.mozilla.org/en-US/docs/Web/API/Performance_API)\n",
    "    - [History API](https://developer.mozilla.org/en-US/docs/Web/API/History_API)\n",
    "    - [IndexedDB](https://developer.mozilla.org/en-US/docs/Web/API/IndexedDB_API)\n",
    "    - [Storage](https://developer.mozilla.org/en-US/docs/Web/API/Storage_API)\n",
    "    - [Touch Events](https://developer.mozilla.org/en-US/docs/Web/API/Touch_events)\n",
    "    - [Web Audio API](https://developer.mozilla.org/en-US/docs/Web/API/Web_Audio_API)\n",
    "    - [Web Storage API](https://developer.mozilla.org/en-US/docs/Web/API/Web_Storage_API)\n",
    "    - [Web Workers API](https://developer.mozilla.org/en-US/docs/Web/API/Web_Workers_API)\n",
    "    - [WebGL](https://developer.mozilla.org/en-US/docs/Web/API/WebGL_API)\n",
    "    - [WebRTC](https://developer.mozilla.org/en-US/docs/Web/API/WebRTC_API)\n",
    "    - [Websockets API](https://developer.mozilla.org/en-US/docs/Web/API/Websockets_API)\n",
    "    - etc.\n",
    "    \n",
    "### Web UI Libraries and Frameworks\n",
    "* [jQuery](https://jquery.com)\n",
    "* [Angular](https://angular.io/)\n",
    "* [React](https://reactjs.org/)\n",
    "* etc.\n",
    "\n",
    "### Mobile Libraries and Frameworks\n",
    "* [Cordova](https://cordova.apache.org)\n",
    "* [React Native](https://reactnative.dev)\n",
    "* [Native Script](https://www.nativescript.org)\n",
    "* [jQuery Mobile](https://jquerymobile.com)\n",
    "* etc.\n",
    "\n",
    "### Server-Side Frameworks\n",
    "* [Express](https://expressjs.com)\n",
    "\n",
    "### Game Libraries and Frameworks\n",
    "* [Phaser](https://github.com/photonstorm/phaser)\n",
    "* [Babylon.js](https://github.com/BabylonJS/Babylon.js)\n",
    "* [Three.js](https://github.com/mrdoob/three.js)\n",
    "* etc."
   ]
  },
  {
   "cell_type": "markdown",
   "metadata": {},
   "source": [
    "## Lab\n",
    "\n",
    "- Work through the Web JavaScript tutorials at: https://learnjavascript.online\n",
    "- Work through the Web JavaScript tutorials at: https://javascript.info"
   ]
  },
  {
   "cell_type": "markdown",
   "metadata": {},
   "source": [
    "## Homework\n",
    "\n",
    "- Create an Web app that uses Web JavaScript\n",
    "- Read: https://www.freecodecamp.org/news/javascript-example\n",
    "- Be prepared to present the working code in class"
   ]
  },
  {
   "cell_type": "markdown",
   "metadata": {},
   "source": [
    "## Learning Resources\n",
    "\n",
    "- https://developer.mozilla.org/en-US/docs/Web/JavaScript\n",
    "- https://devdocs.io/javascript\n",
    "- https://www.freecodecamp.org/learn\n",
    "- https://www.w3schools.com"
   ]
  },
  {
   "cell_type": "code",
   "execution_count": null,
   "metadata": {},
   "outputs": [],
   "source": []
  }
 ],
 "metadata": {
  "kernelspec": {
   "display_name": "Python 3",
   "language": "python",
   "name": "python3"
  },
  "language_info": {
   "codemirror_mode": {
    "name": "ipython",
    "version": 3
   },
   "file_extension": ".py",
   "mimetype": "text/x-python",
   "name": "python",
   "nbconvert_exporter": "python",
   "pygments_lexer": "ipython3",
   "version": "3.8.5"
  }
 },
 "nbformat": 4,
 "nbformat_minor": 4
}
